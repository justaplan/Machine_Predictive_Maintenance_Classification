{
 "cells": [
  {
   "cell_type": "markdown",
   "id": "4cded49a",
   "metadata": {},
   "source": [
    "# Introduction of the capstone project\n",
    "\n",
    "1. Project Name: Machine Predictive Maintenance Classification\n",
    "2. Deliverable: Executable Model Scipt\n",
    "3. Machine Learning Task: Classification\n",
    "3. Target Variable: Target - 0 (No Failure) & 1 (Failure)\n",
    "4. Input Features: See Data Dictionary\n",
    "6. Win Condition: N/A (Best Possible Model)\n",
    "\n",
    "In Summary:\n",
    "\n",
    "This topic of the project is predict the machine failure by the the list of machine technical information. The dataset is download from the kaggle link, the url is inside the \"data dictionary.pdf\". The most important thing is identify potential machine going to breakdown so user can arrange necessary the preventive maintenance before breakdown."
   ]
  },
  {
   "cell_type": "markdown",
   "id": "ea6e2bf9",
   "metadata": {},
   "source": [
    "## 0.0 Library Imports"
   ]
  },
  {
   "cell_type": "code",
   "execution_count": 1,
   "id": "83e26337",
   "metadata": {},
   "outputs": [],
   "source": [
    "import pandas as pd\n",
    "import numpy as np\n",
    "pd.set_option(\"display.max_columns\", 100)\n",
    "\n",
    "from matplotlib import pyplot as plt\n",
    "%matplotlib inline\n",
    "\n",
    "import seaborn as sns\n",
    "sns.set_style(\"darkgrid\")\n",
    "\n",
    "## Pickle for saving model files\n",
    "import pickle\n",
    "\n",
    "## Import Logistic Regression\n",
    "from sklearn.linear_model import LogisticRegression\n",
    "\n",
    "## Import RandomForestClassifier and GradientBoostingClassifer\n",
    "from sklearn.ensemble import RandomForestClassifier, GradientBoostingClassifier\n",
    "\n",
    "## Function for splitting training and test set\n",
    "from sklearn.model_selection import train_test_split\n",
    "\n",
    "## Function for creating model pipelines\n",
    "from sklearn.pipeline import make_pipeline\n",
    "\n",
    "## StandardScaler\n",
    "from sklearn.preprocessing import StandardScaler\n",
    "\n",
    "## GridSearchCV\n",
    "from sklearn.model_selection import GridSearchCV\n",
    "\n",
    "## Classification metrics\n",
    "from sklearn.metrics import confusion_matrix\n",
    "from sklearn.metrics import roc_auc_score, roc_curve\n",
    "\n",
    "import warnings\n",
    "from sklearn.exceptions import ConvergenceWarning\n",
    "warnings.simplefilter(action='ignore', category=ConvergenceWarning)"
   ]
  },
  {
   "cell_type": "markdown",
   "id": "14792044",
   "metadata": {},
   "source": [
    "## 1.0 Exploratory Analysis"
   ]
  },
  {
   "cell_type": "markdown",
   "id": "066e1f64",
   "metadata": {},
   "source": [
    "### 1.1 Basic Informations"
   ]
  },
  {
   "cell_type": "code",
   "execution_count": 2,
   "id": "d6118659",
   "metadata": {},
   "outputs": [],
   "source": [
    "df = pd.read_csv(\"predictive_maintenance.csv\")"
   ]
  },
  {
   "cell_type": "code",
   "execution_count": 3,
   "id": "ee8eae78",
   "metadata": {},
   "outputs": [
    {
     "data": {
      "text/plain": [
       "(10000, 10)"
      ]
     },
     "execution_count": 3,
     "metadata": {},
     "output_type": "execute_result"
    }
   ],
   "source": [
    "df.shape"
   ]
  },
  {
   "cell_type": "code",
   "execution_count": 4,
   "id": "7d8dee42",
   "metadata": {},
   "outputs": [
    {
     "data": {
      "text/plain": [
       "UDI                          int64\n",
       "Product ID                  object\n",
       "Type                        object\n",
       "Air temperature [K]        float64\n",
       "Process temperature [K]    float64\n",
       "Rotational speed [rpm]       int64\n",
       "Torque [Nm]                float64\n",
       "Tool wear [min]              int64\n",
       "Target                       int64\n",
       "Failure Type                object\n",
       "dtype: object"
      ]
     },
     "execution_count": 4,
     "metadata": {},
     "output_type": "execute_result"
    }
   ],
   "source": [
    "df.dtypes"
   ]
  },
  {
   "cell_type": "code",
   "execution_count": 5,
   "id": "59e44add",
   "metadata": {},
   "outputs": [
    {
     "data": {
      "text/html": [
       "<div>\n",
       "<style scoped>\n",
       "    .dataframe tbody tr th:only-of-type {\n",
       "        vertical-align: middle;\n",
       "    }\n",
       "\n",
       "    .dataframe tbody tr th {\n",
       "        vertical-align: top;\n",
       "    }\n",
       "\n",
       "    .dataframe thead th {\n",
       "        text-align: right;\n",
       "    }\n",
       "</style>\n",
       "<table border=\"1\" class=\"dataframe\">\n",
       "  <thead>\n",
       "    <tr style=\"text-align: right;\">\n",
       "      <th></th>\n",
       "      <th>UDI</th>\n",
       "      <th>Product ID</th>\n",
       "      <th>Type</th>\n",
       "      <th>Air temperature [K]</th>\n",
       "      <th>Process temperature [K]</th>\n",
       "      <th>Rotational speed [rpm]</th>\n",
       "      <th>Torque [Nm]</th>\n",
       "      <th>Tool wear [min]</th>\n",
       "      <th>Target</th>\n",
       "      <th>Failure Type</th>\n",
       "    </tr>\n",
       "  </thead>\n",
       "  <tbody>\n",
       "    <tr>\n",
       "      <th>0</th>\n",
       "      <td>1</td>\n",
       "      <td>M14860</td>\n",
       "      <td>M</td>\n",
       "      <td>298.1</td>\n",
       "      <td>308.6</td>\n",
       "      <td>1551</td>\n",
       "      <td>42.8</td>\n",
       "      <td>0</td>\n",
       "      <td>0</td>\n",
       "      <td>No Failure</td>\n",
       "    </tr>\n",
       "    <tr>\n",
       "      <th>1</th>\n",
       "      <td>2</td>\n",
       "      <td>L47181</td>\n",
       "      <td>L</td>\n",
       "      <td>298.2</td>\n",
       "      <td>308.7</td>\n",
       "      <td>1408</td>\n",
       "      <td>46.3</td>\n",
       "      <td>3</td>\n",
       "      <td>0</td>\n",
       "      <td>No Failure</td>\n",
       "    </tr>\n",
       "    <tr>\n",
       "      <th>2</th>\n",
       "      <td>3</td>\n",
       "      <td>L47182</td>\n",
       "      <td>L</td>\n",
       "      <td>298.1</td>\n",
       "      <td>308.5</td>\n",
       "      <td>1498</td>\n",
       "      <td>49.4</td>\n",
       "      <td>5</td>\n",
       "      <td>0</td>\n",
       "      <td>No Failure</td>\n",
       "    </tr>\n",
       "    <tr>\n",
       "      <th>3</th>\n",
       "      <td>4</td>\n",
       "      <td>L47183</td>\n",
       "      <td>L</td>\n",
       "      <td>298.2</td>\n",
       "      <td>308.6</td>\n",
       "      <td>1433</td>\n",
       "      <td>39.5</td>\n",
       "      <td>7</td>\n",
       "      <td>0</td>\n",
       "      <td>No Failure</td>\n",
       "    </tr>\n",
       "    <tr>\n",
       "      <th>4</th>\n",
       "      <td>5</td>\n",
       "      <td>L47184</td>\n",
       "      <td>L</td>\n",
       "      <td>298.2</td>\n",
       "      <td>308.7</td>\n",
       "      <td>1408</td>\n",
       "      <td>40.0</td>\n",
       "      <td>9</td>\n",
       "      <td>0</td>\n",
       "      <td>No Failure</td>\n",
       "    </tr>\n",
       "  </tbody>\n",
       "</table>\n",
       "</div>"
      ],
      "text/plain": [
       "   UDI Product ID Type  Air temperature [K]  Process temperature [K]  \\\n",
       "0    1     M14860    M                298.1                    308.6   \n",
       "1    2     L47181    L                298.2                    308.7   \n",
       "2    3     L47182    L                298.1                    308.5   \n",
       "3    4     L47183    L                298.2                    308.6   \n",
       "4    5     L47184    L                298.2                    308.7   \n",
       "\n",
       "   Rotational speed [rpm]  Torque [Nm]  Tool wear [min]  Target Failure Type  \n",
       "0                    1551         42.8                0       0   No Failure  \n",
       "1                    1408         46.3                3       0   No Failure  \n",
       "2                    1498         49.4                5       0   No Failure  \n",
       "3                    1433         39.5                7       0   No Failure  \n",
       "4                    1408         40.0                9       0   No Failure  "
      ]
     },
     "execution_count": 5,
     "metadata": {},
     "output_type": "execute_result"
    }
   ],
   "source": [
    "df.head()"
   ]
  },
  {
   "cell_type": "code",
   "execution_count": 6,
   "id": "4352601d",
   "metadata": {},
   "outputs": [
    {
     "data": {
      "text/plain": [
       "UDI                        0\n",
       "Product ID                 0\n",
       "Type                       0\n",
       "Air temperature [K]        0\n",
       "Process temperature [K]    0\n",
       "Rotational speed [rpm]     0\n",
       "Torque [Nm]                0\n",
       "Tool wear [min]            0\n",
       "Target                     0\n",
       "Failure Type               0\n",
       "dtype: int64"
      ]
     },
     "execution_count": 6,
     "metadata": {},
     "output_type": "execute_result"
    }
   ],
   "source": [
    "df.isnull().sum()"
   ]
  },
  {
   "cell_type": "markdown",
   "id": "5f95e21a",
   "metadata": {},
   "source": [
    "**No null value in the datasets**"
   ]
  },
  {
   "cell_type": "markdown",
   "id": "d7489e83",
   "metadata": {},
   "source": [
    "### 1.2 Distributions of Numeric Features"
   ]
  },
  {
   "cell_type": "code",
   "execution_count": 7,
   "id": "bef24d82",
   "metadata": {},
   "outputs": [
    {
     "data": {
      "image/png": "[encoded data removed]",
      "text/plain": [
       "<Figure size 720x720 with 9 Axes>"
      ]
     },
     "metadata": {},
     "output_type": "display_data"
    }
   ],
   "source": [
    "df.hist(figsize=(10,10), xrot=-45)\n",
    "\n",
    "plt.show()"
   ]
  },
  {
   "cell_type": "code",
   "execution_count": 8,
   "id": "62db66dc",
   "metadata": {},
   "outputs": [
    {
     "data": {
      "text/html": [
       "<div>\n",
       "<style scoped>\n",
       "    .dataframe tbody tr th:only-of-type {\n",
       "        vertical-align: middle;\n",
       "    }\n",
       "\n",
       "    .dataframe tbody tr th {\n",
       "        vertical-align: top;\n",
       "    }\n",
       "\n",
       "    .dataframe thead th {\n",
       "        text-align: right;\n",
       "    }\n",
       "</style>\n",
       "<table border=\"1\" class=\"dataframe\">\n",
       "  <thead>\n",
       "    <tr style=\"text-align: right;\">\n",
       "      <th></th>\n",
       "      <th>UDI</th>\n",
       "      <th>Air temperature [K]</th>\n",
       "      <th>Process temperature [K]</th>\n",
       "      <th>Rotational speed [rpm]</th>\n",
       "      <th>Torque [Nm]</th>\n",
       "      <th>Tool wear [min]</th>\n",
       "      <th>Target</th>\n",
       "    </tr>\n",
       "  </thead>\n",
       "  <tbody>\n",
       "    <tr>\n",
       "      <th>count</th>\n",
       "      <td>10000.00000</td>\n",
       "      <td>10000.000000</td>\n",
       "      <td>10000.000000</td>\n",
       "      <td>10000.000000</td>\n",
       "      <td>10000.000000</td>\n",
       "      <td>10000.000000</td>\n",
       "      <td>10000.000000</td>\n",
       "    </tr>\n",
       "    <tr>\n",
       "      <th>mean</th>\n",
       "      <td>5000.50000</td>\n",
       "      <td>300.004930</td>\n",
       "      <td>310.005560</td>\n",
       "      <td>1538.776100</td>\n",
       "      <td>39.986910</td>\n",
       "      <td>107.951000</td>\n",
       "      <td>0.033900</td>\n",
       "    </tr>\n",
       "    <tr>\n",
       "      <th>std</th>\n",
       "      <td>2886.89568</td>\n",
       "      <td>2.000259</td>\n",
       "      <td>1.483734</td>\n",
       "      <td>179.284096</td>\n",
       "      <td>9.968934</td>\n",
       "      <td>63.654147</td>\n",
       "      <td>0.180981</td>\n",
       "    </tr>\n",
       "    <tr>\n",
       "      <th>min</th>\n",
       "      <td>1.00000</td>\n",
       "      <td>295.300000</td>\n",
       "      <td>305.700000</td>\n",
       "      <td>1168.000000</td>\n",
       "      <td>3.800000</td>\n",
       "      <td>0.000000</td>\n",
       "      <td>0.000000</td>\n",
       "    </tr>\n",
       "    <tr>\n",
       "      <th>25%</th>\n",
       "      <td>2500.75000</td>\n",
       "      <td>298.300000</td>\n",
       "      <td>308.800000</td>\n",
       "      <td>1423.000000</td>\n",
       "      <td>33.200000</td>\n",
       "      <td>53.000000</td>\n",
       "      <td>0.000000</td>\n",
       "    </tr>\n",
       "    <tr>\n",
       "      <th>50%</th>\n",
       "      <td>5000.50000</td>\n",
       "      <td>300.100000</td>\n",
       "      <td>310.100000</td>\n",
       "      <td>1503.000000</td>\n",
       "      <td>40.100000</td>\n",
       "      <td>108.000000</td>\n",
       "      <td>0.000000</td>\n",
       "    </tr>\n",
       "    <tr>\n",
       "      <th>75%</th>\n",
       "      <td>7500.25000</td>\n",
       "      <td>301.500000</td>\n",
       "      <td>311.100000</td>\n",
       "      <td>1612.000000</td>\n",
       "      <td>46.800000</td>\n",
       "      <td>162.000000</td>\n",
       "      <td>0.000000</td>\n",
       "    </tr>\n",
       "    <tr>\n",
       "      <th>max</th>\n",
       "      <td>10000.00000</td>\n",
       "      <td>304.500000</td>\n",
       "      <td>313.800000</td>\n",
       "      <td>2886.000000</td>\n",
       "      <td>76.600000</td>\n",
       "      <td>253.000000</td>\n",
       "      <td>1.000000</td>\n",
       "    </tr>\n",
       "  </tbody>\n",
       "</table>\n",
       "</div>"
      ],
      "text/plain": [
       "               UDI  Air temperature [K]  Process temperature [K]  \\\n",
       "count  10000.00000         10000.000000             10000.000000   \n",
       "mean    5000.50000           300.004930               310.005560   \n",
       "std     2886.89568             2.000259                 1.483734   \n",
       "min        1.00000           295.300000               305.700000   \n",
       "25%     2500.75000           298.300000               308.800000   \n",
       "50%     5000.50000           300.100000               310.100000   \n",
       "75%     7500.25000           301.500000               311.100000   \n",
       "max    10000.00000           304.500000               313.800000   \n",
       "\n",
       "       Rotational speed [rpm]   Torque [Nm]  Tool wear [min]        Target  \n",
       "count            10000.000000  10000.000000     10000.000000  10000.000000  \n",
       "mean              1538.776100     39.986910       107.951000      0.033900  \n",
       "std                179.284096      9.968934        63.654147      0.180981  \n",
       "min               1168.000000      3.800000         0.000000      0.000000  \n",
       "25%               1423.000000     33.200000        53.000000      0.000000  \n",
       "50%               1503.000000     40.100000       108.000000      0.000000  \n",
       "75%               1612.000000     46.800000       162.000000      0.000000  \n",
       "max               2886.000000     76.600000       253.000000      1.000000  "
      ]
     },
     "execution_count": 8,
     "metadata": {},
     "output_type": "execute_result"
    }
   ],
   "source": [
    "df.describe()"
   ]
  },
  {
   "cell_type": "markdown",
   "id": "a1244ed4",
   "metadata": {},
   "source": [
    "**Check & Answer**\n",
    "\n",
    "1. Do each of the distributions make intuitive sense to you? **Yes**\n",
    "2. Do you anticapte any issue or sparse data? **No**\n",
    "3. Are they any surprising distributions you should take a closer look at? **No**\n",
    "4. Do the summary statistics confirm what you've seen from the charts? **Yes**\n",
    "\n",
    "**Nothing appears out of ordinary**"
   ]
  },
  {
   "cell_type": "markdown",
   "id": "ff6f1c22",
   "metadata": {},
   "source": [
    "### 1.3 Distributions of Categorical Features"
   ]
  },
  {
   "cell_type": "code",
   "execution_count": 9,
   "id": "530ae918",
   "metadata": {},
   "outputs": [
    {
     "data": {
      "text/html": [
       "<div>\n",
       "<style scoped>\n",
       "    .dataframe tbody tr th:only-of-type {\n",
       "        vertical-align: middle;\n",
       "    }\n",
       "\n",
       "    .dataframe tbody tr th {\n",
       "        vertical-align: top;\n",
       "    }\n",
       "\n",
       "    .dataframe thead th {\n",
       "        text-align: right;\n",
       "    }\n",
       "</style>\n",
       "<table border=\"1\" class=\"dataframe\">\n",
       "  <thead>\n",
       "    <tr style=\"text-align: right;\">\n",
       "      <th></th>\n",
       "      <th>Product ID</th>\n",
       "      <th>Type</th>\n",
       "      <th>Failure Type</th>\n",
       "    </tr>\n",
       "  </thead>\n",
       "  <tbody>\n",
       "    <tr>\n",
       "      <th>count</th>\n",
       "      <td>10000</td>\n",
       "      <td>10000</td>\n",
       "      <td>10000</td>\n",
       "    </tr>\n",
       "    <tr>\n",
       "      <th>unique</th>\n",
       "      <td>10000</td>\n",
       "      <td>3</td>\n",
       "      <td>6</td>\n",
       "    </tr>\n",
       "    <tr>\n",
       "      <th>top</th>\n",
       "      <td>M14860</td>\n",
       "      <td>L</td>\n",
       "      <td>No Failure</td>\n",
       "    </tr>\n",
       "    <tr>\n",
       "      <th>freq</th>\n",
       "      <td>1</td>\n",
       "      <td>6000</td>\n",
       "      <td>9652</td>\n",
       "    </tr>\n",
       "  </tbody>\n",
       "</table>\n",
       "</div>"
      ],
      "text/plain": [
       "       Product ID   Type Failure Type\n",
       "count       10000  10000        10000\n",
       "unique      10000      3            6\n",
       "top        M14860      L   No Failure\n",
       "freq            1   6000         9652"
      ]
     },
     "execution_count": 9,
     "metadata": {},
     "output_type": "execute_result"
    }
   ],
   "source": [
    "df.describe(include=[\"object\"])"
   ]
  },
  {
   "cell_type": "code",
   "execution_count": 10,
   "id": "7472d460",
   "metadata": {},
   "outputs": [
    {
     "data": {
      "text/plain": [
       "Air temperature [K]        float64\n",
       "Process temperature [K]    float64\n",
       "Rotational speed [rpm]       int64\n",
       "Torque [Nm]                float64\n",
       "Tool wear [min]              int64\n",
       "dtype: object"
      ]
     },
     "execution_count": 10,
     "metadata": {},
     "output_type": "execute_result"
    }
   ],
   "source": [
    "df.dtypes[df.dtypes != \"object\"].drop([\"UDI\", \"Target\"])"
   ]
  },
  {
   "cell_type": "markdown",
   "id": "c552f658",
   "metadata": {},
   "source": [
    "Product ID can be ignore as each row have their own unique id"
   ]
  },
  {
   "cell_type": "code",
   "execution_count": 11,
   "id": "706cc04b",
   "metadata": {},
   "outputs": [
    {
     "data": {
      "image/png": "[encoded data removed]",
      "text/plain": [
       "<Figure size 432x288 with 1 Axes>"
      ]
     },
     "metadata": {},
     "output_type": "display_data"
    },
    {
     "data": {
      "image/png": "[encoded data removed]",
      "text/plain": [
       "<Figure size 432x288 with 1 Axes>"
      ]
     },
     "metadata": {},
     "output_type": "display_data"
    }
   ],
   "source": [
    "for feature in df.dtypes[df.dtypes == \"object\"].drop(\"Product ID\").index:\n",
    "    sns.countplot(y=feature, data=df)\n",
    "    plt.show()"
   ]
  },
  {
   "cell_type": "markdown",
   "id": "4fcc57ff",
   "metadata": {},
   "source": [
    "The target variable of this dataset (\"Target\") is in numeric format which we should focus on, we can drop the \"Failure Type\" in the data cleaning stage"
   ]
  },
  {
   "cell_type": "markdown",
   "id": "880b4d15",
   "metadata": {},
   "source": [
    "**Check & Answer**\n",
    "\n",
    "1. Are there any classess that might be sparse? **No**\n",
    "2. Are there any classess that shouldn't be in dataset based on our project scope? **Yes, we should focus on only one target variable which is \"Target\" instead of the \"Failure Type\"**\n",
    "3. Are there any mislabeled classes? **No**\n",
    "4. Are the distributions seem intuitive? **Yes**"
   ]
  },
  {
   "cell_type": "markdown",
   "id": "faefd558",
   "metadata": {},
   "source": [
    "### 1.4 Segmentations"
   ]
  },
  {
   "cell_type": "code",
   "execution_count": 12,
   "id": "63b5cc25",
   "metadata": {},
   "outputs": [
    {
     "data": {
      "text/html": [
       "<div>\n",
       "<style scoped>\n",
       "    .dataframe tbody tr th:only-of-type {\n",
       "        vertical-align: middle;\n",
       "    }\n",
       "\n",
       "    .dataframe tbody tr th {\n",
       "        vertical-align: top;\n",
       "    }\n",
       "\n",
       "    .dataframe thead th {\n",
       "        text-align: right;\n",
       "    }\n",
       "</style>\n",
       "<table border=\"1\" class=\"dataframe\">\n",
       "  <thead>\n",
       "    <tr style=\"text-align: right;\">\n",
       "      <th></th>\n",
       "      <th>UDI</th>\n",
       "      <th>Product ID</th>\n",
       "      <th>Type</th>\n",
       "      <th>Air temperature [K]</th>\n",
       "      <th>Process temperature [K]</th>\n",
       "      <th>Rotational speed [rpm]</th>\n",
       "      <th>Torque [Nm]</th>\n",
       "      <th>Tool wear [min]</th>\n",
       "      <th>Target</th>\n",
       "      <th>Failure Type</th>\n",
       "    </tr>\n",
       "  </thead>\n",
       "  <tbody>\n",
       "    <tr>\n",
       "      <th>0</th>\n",
       "      <td>1</td>\n",
       "      <td>M14860</td>\n",
       "      <td>M</td>\n",
       "      <td>298.1</td>\n",
       "      <td>308.6</td>\n",
       "      <td>1551</td>\n",
       "      <td>42.8</td>\n",
       "      <td>0</td>\n",
       "      <td>0</td>\n",
       "      <td>No Failure</td>\n",
       "    </tr>\n",
       "    <tr>\n",
       "      <th>1</th>\n",
       "      <td>2</td>\n",
       "      <td>L47181</td>\n",
       "      <td>L</td>\n",
       "      <td>298.2</td>\n",
       "      <td>308.7</td>\n",
       "      <td>1408</td>\n",
       "      <td>46.3</td>\n",
       "      <td>3</td>\n",
       "      <td>0</td>\n",
       "      <td>No Failure</td>\n",
       "    </tr>\n",
       "    <tr>\n",
       "      <th>2</th>\n",
       "      <td>3</td>\n",
       "      <td>L47182</td>\n",
       "      <td>L</td>\n",
       "      <td>298.1</td>\n",
       "      <td>308.5</td>\n",
       "      <td>1498</td>\n",
       "      <td>49.4</td>\n",
       "      <td>5</td>\n",
       "      <td>0</td>\n",
       "      <td>No Failure</td>\n",
       "    </tr>\n",
       "    <tr>\n",
       "      <th>3</th>\n",
       "      <td>4</td>\n",
       "      <td>L47183</td>\n",
       "      <td>L</td>\n",
       "      <td>298.2</td>\n",
       "      <td>308.6</td>\n",
       "      <td>1433</td>\n",
       "      <td>39.5</td>\n",
       "      <td>7</td>\n",
       "      <td>0</td>\n",
       "      <td>No Failure</td>\n",
       "    </tr>\n",
       "    <tr>\n",
       "      <th>4</th>\n",
       "      <td>5</td>\n",
       "      <td>L47184</td>\n",
       "      <td>L</td>\n",
       "      <td>298.2</td>\n",
       "      <td>308.7</td>\n",
       "      <td>1408</td>\n",
       "      <td>40.0</td>\n",
       "      <td>9</td>\n",
       "      <td>0</td>\n",
       "      <td>No Failure</td>\n",
       "    </tr>\n",
       "  </tbody>\n",
       "</table>\n",
       "</div>"
      ],
      "text/plain": [
       "   UDI Product ID Type  Air temperature [K]  Process temperature [K]  \\\n",
       "0    1     M14860    M                298.1                    308.6   \n",
       "1    2     L47181    L                298.2                    308.7   \n",
       "2    3     L47182    L                298.1                    308.5   \n",
       "3    4     L47183    L                298.2                    308.6   \n",
       "4    5     L47184    L                298.2                    308.7   \n",
       "\n",
       "   Rotational speed [rpm]  Torque [Nm]  Tool wear [min]  Target Failure Type  \n",
       "0                    1551         42.8                0       0   No Failure  \n",
       "1                    1408         46.3                3       0   No Failure  \n",
       "2                    1498         49.4                5       0   No Failure  \n",
       "3                    1433         39.5                7       0   No Failure  \n",
       "4                    1408         40.0                9       0   No Failure  "
      ]
     },
     "execution_count": 12,
     "metadata": {},
     "output_type": "execute_result"
    }
   ],
   "source": [
    "df.head()"
   ]
  },
  {
   "cell_type": "code",
   "execution_count": 13,
   "id": "4f15e6a3",
   "metadata": {},
   "outputs": [
    {
     "data": {
      "text/html": [
       "<div>\n",
       "<style scoped>\n",
       "    .dataframe tbody tr th:only-of-type {\n",
       "        vertical-align: middle;\n",
       "    }\n",
       "\n",
       "    .dataframe tbody tr th {\n",
       "        vertical-align: top;\n",
       "    }\n",
       "\n",
       "    .dataframe thead th {\n",
       "        text-align: right;\n",
       "    }\n",
       "</style>\n",
       "<table border=\"1\" class=\"dataframe\">\n",
       "  <thead>\n",
       "    <tr style=\"text-align: right;\">\n",
       "      <th></th>\n",
       "      <th>UDI</th>\n",
       "      <th>Product ID</th>\n",
       "      <th>Type</th>\n",
       "      <th>Air temperature [K]</th>\n",
       "      <th>Process temperature [K]</th>\n",
       "      <th>Rotational speed [rpm]</th>\n",
       "      <th>Torque [Nm]</th>\n",
       "      <th>Tool wear [min]</th>\n",
       "      <th>Target</th>\n",
       "      <th>Failure Type</th>\n",
       "      <th>Target_categorical</th>\n",
       "    </tr>\n",
       "  </thead>\n",
       "  <tbody>\n",
       "    <tr>\n",
       "      <th>0</th>\n",
       "      <td>1</td>\n",
       "      <td>M14860</td>\n",
       "      <td>M</td>\n",
       "      <td>298.1</td>\n",
       "      <td>308.6</td>\n",
       "      <td>1551</td>\n",
       "      <td>42.8</td>\n",
       "      <td>0</td>\n",
       "      <td>0</td>\n",
       "      <td>No Failure</td>\n",
       "      <td>No Failure</td>\n",
       "    </tr>\n",
       "    <tr>\n",
       "      <th>1</th>\n",
       "      <td>2</td>\n",
       "      <td>L47181</td>\n",
       "      <td>L</td>\n",
       "      <td>298.2</td>\n",
       "      <td>308.7</td>\n",
       "      <td>1408</td>\n",
       "      <td>46.3</td>\n",
       "      <td>3</td>\n",
       "      <td>0</td>\n",
       "      <td>No Failure</td>\n",
       "      <td>No Failure</td>\n",
       "    </tr>\n",
       "    <tr>\n",
       "      <th>2</th>\n",
       "      <td>3</td>\n",
       "      <td>L47182</td>\n",
       "      <td>L</td>\n",
       "      <td>298.1</td>\n",
       "      <td>308.5</td>\n",
       "      <td>1498</td>\n",
       "      <td>49.4</td>\n",
       "      <td>5</td>\n",
       "      <td>0</td>\n",
       "      <td>No Failure</td>\n",
       "      <td>No Failure</td>\n",
       "    </tr>\n",
       "    <tr>\n",
       "      <th>3</th>\n",
       "      <td>4</td>\n",
       "      <td>L47183</td>\n",
       "      <td>L</td>\n",
       "      <td>298.2</td>\n",
       "      <td>308.6</td>\n",
       "      <td>1433</td>\n",
       "      <td>39.5</td>\n",
       "      <td>7</td>\n",
       "      <td>0</td>\n",
       "      <td>No Failure</td>\n",
       "      <td>No Failure</td>\n",
       "    </tr>\n",
       "    <tr>\n",
       "      <th>4</th>\n",
       "      <td>5</td>\n",
       "      <td>L47184</td>\n",
       "      <td>L</td>\n",
       "      <td>298.2</td>\n",
       "      <td>308.7</td>\n",
       "      <td>1408</td>\n",
       "      <td>40.0</td>\n",
       "      <td>9</td>\n",
       "      <td>0</td>\n",
       "      <td>No Failure</td>\n",
       "      <td>No Failure</td>\n",
       "    </tr>\n",
       "  </tbody>\n",
       "</table>\n",
       "</div>"
      ],
      "text/plain": [
       "   UDI Product ID Type  Air temperature [K]  Process temperature [K]  \\\n",
       "0    1     M14860    M                298.1                    308.6   \n",
       "1    2     L47181    L                298.2                    308.7   \n",
       "2    3     L47182    L                298.1                    308.5   \n",
       "3    4     L47183    L                298.2                    308.6   \n",
       "4    5     L47184    L                298.2                    308.7   \n",
       "\n",
       "   Rotational speed [rpm]  Torque [Nm]  Tool wear [min]  Target Failure Type  \\\n",
       "0                    1551         42.8                0       0   No Failure   \n",
       "1                    1408         46.3                3       0   No Failure   \n",
       "2                    1498         49.4                5       0   No Failure   \n",
       "3                    1433         39.5                7       0   No Failure   \n",
       "4                    1408         40.0                9       0   No Failure   \n",
       "\n",
       "  Target_categorical  \n",
       "0         No Failure  \n",
       "1         No Failure  \n",
       "2         No Failure  \n",
       "3         No Failure  \n",
       "4         No Failure  "
      ]
     },
     "execution_count": 13,
     "metadata": {},
     "output_type": "execute_result"
    }
   ],
   "source": [
    "## Convert target to categorical for violin plot\n",
    "df[\"Target_categorical\"] = np.where(df[\"Target\"] == 0, \"No Failure\", \"Failure\")\n",
    "\n",
    "df.head()"
   ]
  },
  {
   "cell_type": "code",
   "execution_count": 14,
   "id": "fa0aab39",
   "metadata": {},
   "outputs": [
    {
     "data": {
      "image/png": "[encoded data removed]",
      "text/plain": [
       "<Figure size 432x288 with 1 Axes>"
      ]
     },
     "metadata": {},
     "output_type": "display_data"
    },
    {
     "data": {
      "image/png": "[encoded data removed]",
      "text/plain": [
       "<Figure size 432x288 with 1 Axes>"
      ]
     },
     "metadata": {},
     "output_type": "display_data"
    },
    {
     "data": {
      "image/png": "[encoded data removed]",
      "text/plain": [
       "<Figure size 432x288 with 1 Axes>"
      ]
     },
     "metadata": {},
     "output_type": "display_data"
    },
    {
     "data": {
      "image/png": "[encoded data removed]",
      "text/plain": [
       "<Figure size 432x288 with 1 Axes>"
      ]
     },
     "metadata": {},
     "output_type": "display_data"
    },
    {
     "data": {
      "image/png": "[encoded data removed]",
      "text/plain": [
       "<Figure size 432x288 with 1 Axes>"
      ]
     },
     "metadata": {},
     "output_type": "display_data"
    }
   ],
   "source": [
    "for feature in df.dtypes[df.dtypes != \"object\"].drop([\"UDI\", \"Target\"]).index:\n",
    "    sns.violinplot(y=\"Target_categorical\", x=feature, data=df)\n",
    "    plt.title(\"Target Vs {}\".format(feature))\n",
    "    plt.show()"
   ]
  },
  {
   "cell_type": "code",
   "execution_count": 15,
   "id": "c86a803d",
   "metadata": {},
   "outputs": [
    {
     "data": {
      "text/html": [
       "<div>\n",
       "<style scoped>\n",
       "    .dataframe tbody tr th:only-of-type {\n",
       "        vertical-align: middle;\n",
       "    }\n",
       "\n",
       "    .dataframe tbody tr th {\n",
       "        vertical-align: top;\n",
       "    }\n",
       "\n",
       "    .dataframe thead th {\n",
       "        text-align: right;\n",
       "    }\n",
       "</style>\n",
       "<table border=\"1\" class=\"dataframe\">\n",
       "  <thead>\n",
       "    <tr style=\"text-align: right;\">\n",
       "      <th></th>\n",
       "      <th>UDI</th>\n",
       "      <th>Air temperature [K]</th>\n",
       "      <th>Process temperature [K]</th>\n",
       "      <th>Rotational speed [rpm]</th>\n",
       "      <th>Torque [Nm]</th>\n",
       "      <th>Tool wear [min]</th>\n",
       "      <th>Target</th>\n",
       "    </tr>\n",
       "    <tr>\n",
       "      <th>Target_categorical</th>\n",
       "      <th></th>\n",
       "      <th></th>\n",
       "      <th></th>\n",
       "      <th></th>\n",
       "      <th></th>\n",
       "      <th></th>\n",
       "      <th></th>\n",
       "    </tr>\n",
       "  </thead>\n",
       "  <tbody>\n",
       "    <tr>\n",
       "      <th>Failure</th>\n",
       "      <td>4647.722714</td>\n",
       "      <td>300.886431</td>\n",
       "      <td>310.290265</td>\n",
       "      <td>1496.486726</td>\n",
       "      <td>50.168142</td>\n",
       "      <td>143.781711</td>\n",
       "      <td>1.0</td>\n",
       "    </tr>\n",
       "    <tr>\n",
       "      <th>No Failure</th>\n",
       "      <td>5012.878791</td>\n",
       "      <td>299.973999</td>\n",
       "      <td>309.995570</td>\n",
       "      <td>1540.260014</td>\n",
       "      <td>39.629655</td>\n",
       "      <td>106.693717</td>\n",
       "      <td>0.0</td>\n",
       "    </tr>\n",
       "  </tbody>\n",
       "</table>\n",
       "</div>"
      ],
      "text/plain": [
       "                            UDI  Air temperature [K]  Process temperature [K]  \\\n",
       "Target_categorical                                                              \n",
       "Failure             4647.722714           300.886431               310.290265   \n",
       "No Failure          5012.878791           299.973999               309.995570   \n",
       "\n",
       "                    Rotational speed [rpm]  Torque [Nm]  Tool wear [min]  \\\n",
       "Target_categorical                                                         \n",
       "Failure                        1496.486726    50.168142       143.781711   \n",
       "No Failure                     1540.260014    39.629655       106.693717   \n",
       "\n",
       "                    Target  \n",
       "Target_categorical          \n",
       "Failure                1.0  \n",
       "No Failure             0.0  "
      ]
     },
     "execution_count": 15,
     "metadata": {},
     "output_type": "execute_result"
    }
   ],
   "source": [
    "df.groupby(\"Target_categorical\").mean()"
   ]
  },
  {
   "cell_type": "markdown",
   "id": "d6c3a32e",
   "metadata": {},
   "source": [
    "Failure machine tend to have higher value in torque and tool wear according to the violin plot"
   ]
  },
  {
   "cell_type": "markdown",
   "id": "197dcc34",
   "metadata": {},
   "source": [
    "### 1.5 Correlations"
   ]
  },
  {
   "cell_type": "code",
   "execution_count": 16,
   "id": "cd2c29ae",
   "metadata": {},
   "outputs": [],
   "source": [
    "correlations = df.corr()"
   ]
  },
  {
   "cell_type": "code",
   "execution_count": 17,
   "id": "64798e8f",
   "metadata": {},
   "outputs": [
    {
     "data": {
      "text/html": [
       "<div>\n",
       "<style scoped>\n",
       "    .dataframe tbody tr th:only-of-type {\n",
       "        vertical-align: middle;\n",
       "    }\n",
       "\n",
       "    .dataframe tbody tr th {\n",
       "        vertical-align: top;\n",
       "    }\n",
       "\n",
       "    .dataframe thead th {\n",
       "        text-align: right;\n",
       "    }\n",
       "</style>\n",
       "<table border=\"1\" class=\"dataframe\">\n",
       "  <thead>\n",
       "    <tr style=\"text-align: right;\">\n",
       "      <th></th>\n",
       "      <th>UDI</th>\n",
       "      <th>Air temperature [K]</th>\n",
       "      <th>Process temperature [K]</th>\n",
       "      <th>Rotational speed [rpm]</th>\n",
       "      <th>Torque [Nm]</th>\n",
       "      <th>Tool wear [min]</th>\n",
       "      <th>Target</th>\n",
       "    </tr>\n",
       "  </thead>\n",
       "  <tbody>\n",
       "    <tr>\n",
       "      <th>UDI</th>\n",
       "      <td>1.000000</td>\n",
       "      <td>0.117428</td>\n",
       "      <td>0.324428</td>\n",
       "      <td>-0.006615</td>\n",
       "      <td>0.003207</td>\n",
       "      <td>-0.010702</td>\n",
       "      <td>-0.022892</td>\n",
       "    </tr>\n",
       "    <tr>\n",
       "      <th>Air temperature [K]</th>\n",
       "      <td>0.117428</td>\n",
       "      <td>1.000000</td>\n",
       "      <td>0.876107</td>\n",
       "      <td>0.022670</td>\n",
       "      <td>-0.013778</td>\n",
       "      <td>0.013853</td>\n",
       "      <td>0.082556</td>\n",
       "    </tr>\n",
       "    <tr>\n",
       "      <th>Process temperature [K]</th>\n",
       "      <td>0.324428</td>\n",
       "      <td>0.876107</td>\n",
       "      <td>1.000000</td>\n",
       "      <td>0.019277</td>\n",
       "      <td>-0.014061</td>\n",
       "      <td>0.013488</td>\n",
       "      <td>0.035946</td>\n",
       "    </tr>\n",
       "    <tr>\n",
       "      <th>Rotational speed [rpm]</th>\n",
       "      <td>-0.006615</td>\n",
       "      <td>0.022670</td>\n",
       "      <td>0.019277</td>\n",
       "      <td>1.000000</td>\n",
       "      <td>-0.875027</td>\n",
       "      <td>0.000223</td>\n",
       "      <td>-0.044188</td>\n",
       "    </tr>\n",
       "    <tr>\n",
       "      <th>Torque [Nm]</th>\n",
       "      <td>0.003207</td>\n",
       "      <td>-0.013778</td>\n",
       "      <td>-0.014061</td>\n",
       "      <td>-0.875027</td>\n",
       "      <td>1.000000</td>\n",
       "      <td>-0.003093</td>\n",
       "      <td>0.191321</td>\n",
       "    </tr>\n",
       "    <tr>\n",
       "      <th>Tool wear [min]</th>\n",
       "      <td>-0.010702</td>\n",
       "      <td>0.013853</td>\n",
       "      <td>0.013488</td>\n",
       "      <td>0.000223</td>\n",
       "      <td>-0.003093</td>\n",
       "      <td>1.000000</td>\n",
       "      <td>0.105448</td>\n",
       "    </tr>\n",
       "    <tr>\n",
       "      <th>Target</th>\n",
       "      <td>-0.022892</td>\n",
       "      <td>0.082556</td>\n",
       "      <td>0.035946</td>\n",
       "      <td>-0.044188</td>\n",
       "      <td>0.191321</td>\n",
       "      <td>0.105448</td>\n",
       "      <td>1.000000</td>\n",
       "    </tr>\n",
       "  </tbody>\n",
       "</table>\n",
       "</div>"
      ],
      "text/plain": [
       "                              UDI  Air temperature [K]  \\\n",
       "UDI                      1.000000             0.117428   \n",
       "Air temperature [K]      0.117428             1.000000   \n",
       "Process temperature [K]  0.324428             0.876107   \n",
       "Rotational speed [rpm]  -0.006615             0.022670   \n",
       "Torque [Nm]              0.003207            -0.013778   \n",
       "Tool wear [min]         -0.010702             0.013853   \n",
       "Target                  -0.022892             0.082556   \n",
       "\n",
       "                         Process temperature [K]  Rotational speed [rpm]  \\\n",
       "UDI                                     0.324428               -0.006615   \n",
       "Air temperature [K]                     0.876107                0.022670   \n",
       "Process temperature [K]                 1.000000                0.019277   \n",
       "Rotational speed [rpm]                  0.019277                1.000000   \n",
       "Torque [Nm]                            -0.014061               -0.875027   \n",
       "Tool wear [min]                         0.013488                0.000223   \n",
       "Target                                  0.035946               -0.044188   \n",
       "\n",
       "                         Torque [Nm]  Tool wear [min]    Target  \n",
       "UDI                         0.003207        -0.010702 -0.022892  \n",
       "Air temperature [K]        -0.013778         0.013853  0.082556  \n",
       "Process temperature [K]    -0.014061         0.013488  0.035946  \n",
       "Rotational speed [rpm]     -0.875027         0.000223 -0.044188  \n",
       "Torque [Nm]                 1.000000        -0.003093  0.191321  \n",
       "Tool wear [min]            -0.003093         1.000000  0.105448  \n",
       "Target                      0.191321         0.105448  1.000000  "
      ]
     },
     "execution_count": 17,
     "metadata": {},
     "output_type": "execute_result"
    }
   ],
   "source": [
    "correlations"
   ]
  },
  {
   "cell_type": "code",
   "execution_count": 18,
   "id": "c6f30b98",
   "metadata": {},
   "outputs": [
    {
     "data": {
      "image/png": "[encoded data removed]",
      "text/plain": [
       "<Figure size 720x576 with 1 Axes>"
      ]
     },
     "metadata": {},
     "output_type": "display_data"
    }
   ],
   "source": [
    "## White background Chart\n",
    "sns.set_style(\"whitegrid\")\n",
    "\n",
    "## Generate a mask for the upper triangle\n",
    "mask = np.zeros_like(correlations)\n",
    "mask[np.triu_indices_from(mask)] = 1\n",
    "\n",
    "plt.figure(figsize=(10,8))\n",
    "\n",
    "sns.heatmap(correlations * 100, \n",
    "            cmap=\"RdBu_r\", \n",
    "            annot=True, \n",
    "            fmt=\".0f\", \n",
    "            mask=mask,\n",
    "            cbar=False\n",
    "           )\n",
    "\n",
    "plt.show()"
   ]
  },
  {
   "cell_type": "markdown",
   "id": "a0525b02",
   "metadata": {},
   "source": [
    "* Process temperature and Air Temperature have **strong positive correlation**\n",
    "* Torque and Rotational speed have **strong negative correlation**"
   ]
  },
  {
   "cell_type": "markdown",
   "id": "02199e2c",
   "metadata": {},
   "source": [
    "## 2.0 Data Cleaning"
   ]
  },
  {
   "cell_type": "code",
   "execution_count": 19,
   "id": "f6ba1e54",
   "metadata": {},
   "outputs": [
    {
     "data": {
      "text/html": [
       "<div>\n",
       "<style scoped>\n",
       "    .dataframe tbody tr th:only-of-type {\n",
       "        vertical-align: middle;\n",
       "    }\n",
       "\n",
       "    .dataframe tbody tr th {\n",
       "        vertical-align: top;\n",
       "    }\n",
       "\n",
       "    .dataframe thead th {\n",
       "        text-align: right;\n",
       "    }\n",
       "</style>\n",
       "<table border=\"1\" class=\"dataframe\">\n",
       "  <thead>\n",
       "    <tr style=\"text-align: right;\">\n",
       "      <th></th>\n",
       "      <th>UDI</th>\n",
       "      <th>Product ID</th>\n",
       "      <th>Type</th>\n",
       "      <th>Air temperature [K]</th>\n",
       "      <th>Process temperature [K]</th>\n",
       "      <th>Rotational speed [rpm]</th>\n",
       "      <th>Torque [Nm]</th>\n",
       "      <th>Tool wear [min]</th>\n",
       "      <th>Target</th>\n",
       "      <th>Failure Type</th>\n",
       "      <th>Target_categorical</th>\n",
       "    </tr>\n",
       "  </thead>\n",
       "  <tbody>\n",
       "    <tr>\n",
       "      <th>0</th>\n",
       "      <td>1</td>\n",
       "      <td>M14860</td>\n",
       "      <td>M</td>\n",
       "      <td>298.1</td>\n",
       "      <td>308.6</td>\n",
       "      <td>1551</td>\n",
       "      <td>42.8</td>\n",
       "      <td>0</td>\n",
       "      <td>0</td>\n",
       "      <td>No Failure</td>\n",
       "      <td>No Failure</td>\n",
       "    </tr>\n",
       "    <tr>\n",
       "      <th>1</th>\n",
       "      <td>2</td>\n",
       "      <td>L47181</td>\n",
       "      <td>L</td>\n",
       "      <td>298.2</td>\n",
       "      <td>308.7</td>\n",
       "      <td>1408</td>\n",
       "      <td>46.3</td>\n",
       "      <td>3</td>\n",
       "      <td>0</td>\n",
       "      <td>No Failure</td>\n",
       "      <td>No Failure</td>\n",
       "    </tr>\n",
       "    <tr>\n",
       "      <th>2</th>\n",
       "      <td>3</td>\n",
       "      <td>L47182</td>\n",
       "      <td>L</td>\n",
       "      <td>298.1</td>\n",
       "      <td>308.5</td>\n",
       "      <td>1498</td>\n",
       "      <td>49.4</td>\n",
       "      <td>5</td>\n",
       "      <td>0</td>\n",
       "      <td>No Failure</td>\n",
       "      <td>No Failure</td>\n",
       "    </tr>\n",
       "    <tr>\n",
       "      <th>3</th>\n",
       "      <td>4</td>\n",
       "      <td>L47183</td>\n",
       "      <td>L</td>\n",
       "      <td>298.2</td>\n",
       "      <td>308.6</td>\n",
       "      <td>1433</td>\n",
       "      <td>39.5</td>\n",
       "      <td>7</td>\n",
       "      <td>0</td>\n",
       "      <td>No Failure</td>\n",
       "      <td>No Failure</td>\n",
       "    </tr>\n",
       "    <tr>\n",
       "      <th>4</th>\n",
       "      <td>5</td>\n",
       "      <td>L47184</td>\n",
       "      <td>L</td>\n",
       "      <td>298.2</td>\n",
       "      <td>308.7</td>\n",
       "      <td>1408</td>\n",
       "      <td>40.0</td>\n",
       "      <td>9</td>\n",
       "      <td>0</td>\n",
       "      <td>No Failure</td>\n",
       "      <td>No Failure</td>\n",
       "    </tr>\n",
       "  </tbody>\n",
       "</table>\n",
       "</div>"
      ],
      "text/plain": [
       "   UDI Product ID Type  Air temperature [K]  Process temperature [K]  \\\n",
       "0    1     M14860    M                298.1                    308.6   \n",
       "1    2     L47181    L                298.2                    308.7   \n",
       "2    3     L47182    L                298.1                    308.5   \n",
       "3    4     L47183    L                298.2                    308.6   \n",
       "4    5     L47184    L                298.2                    308.7   \n",
       "\n",
       "   Rotational speed [rpm]  Torque [Nm]  Tool wear [min]  Target Failure Type  \\\n",
       "0                    1551         42.8                0       0   No Failure   \n",
       "1                    1408         46.3                3       0   No Failure   \n",
       "2                    1498         49.4                5       0   No Failure   \n",
       "3                    1433         39.5                7       0   No Failure   \n",
       "4                    1408         40.0                9       0   No Failure   \n",
       "\n",
       "  Target_categorical  \n",
       "0         No Failure  \n",
       "1         No Failure  \n",
       "2         No Failure  \n",
       "3         No Failure  \n",
       "4         No Failure  "
      ]
     },
     "execution_count": 19,
     "metadata": {},
     "output_type": "execute_result"
    }
   ],
   "source": [
    "df.head()"
   ]
  },
  {
   "cell_type": "markdown",
   "id": "2994b822",
   "metadata": {},
   "source": [
    "### 2.1 Drop Unwanted Observations"
   ]
  },
  {
   "cell_type": "code",
   "execution_count": 20,
   "id": "9abe1fdf",
   "metadata": {},
   "outputs": [
    {
     "data": {
      "text/plain": [
       "(10000, 11)"
      ]
     },
     "execution_count": 20,
     "metadata": {},
     "output_type": "execute_result"
    }
   ],
   "source": [
    "## Before drop duplicates\n",
    "df.shape"
   ]
  },
  {
   "cell_type": "code",
   "execution_count": 21,
   "id": "b8aa652d",
   "metadata": {},
   "outputs": [
    {
     "data": {
      "text/plain": [
       "(10000, 11)"
      ]
     },
     "execution_count": 21,
     "metadata": {},
     "output_type": "execute_result"
    }
   ],
   "source": [
    "## After drop duplicate\n",
    "df = df.drop_duplicates()\n",
    "\n",
    "df.shape"
   ]
  },
  {
   "cell_type": "markdown",
   "id": "8977cf33",
   "metadata": {},
   "source": [
    "We can conclude that is no duplicate observations in this dataset"
   ]
  },
  {
   "cell_type": "markdown",
   "id": "f42b6d97",
   "metadata": {},
   "source": [
    "### 2.2 Fix Structural Errors"
   ]
  },
  {
   "cell_type": "code",
   "execution_count": 22,
   "id": "126a0152",
   "metadata": {},
   "outputs": [
    {
     "data": {
      "text/html": [
       "<div>\n",
       "<style scoped>\n",
       "    .dataframe tbody tr th:only-of-type {\n",
       "        vertical-align: middle;\n",
       "    }\n",
       "\n",
       "    .dataframe tbody tr th {\n",
       "        vertical-align: top;\n",
       "    }\n",
       "\n",
       "    .dataframe thead th {\n",
       "        text-align: right;\n",
       "    }\n",
       "</style>\n",
       "<table border=\"1\" class=\"dataframe\">\n",
       "  <thead>\n",
       "    <tr style=\"text-align: right;\">\n",
       "      <th></th>\n",
       "      <th>UDI</th>\n",
       "      <th>Product ID</th>\n",
       "      <th>Type</th>\n",
       "      <th>Air temperature [K]</th>\n",
       "      <th>Process temperature [K]</th>\n",
       "      <th>Rotational speed [rpm]</th>\n",
       "      <th>Torque [Nm]</th>\n",
       "      <th>Tool wear [min]</th>\n",
       "      <th>Target</th>\n",
       "      <th>Failure Type</th>\n",
       "      <th>Target_categorical</th>\n",
       "    </tr>\n",
       "  </thead>\n",
       "  <tbody>\n",
       "    <tr>\n",
       "      <th>0</th>\n",
       "      <td>1</td>\n",
       "      <td>M14860</td>\n",
       "      <td>M</td>\n",
       "      <td>298.1</td>\n",
       "      <td>308.6</td>\n",
       "      <td>1551</td>\n",
       "      <td>42.8</td>\n",
       "      <td>0</td>\n",
       "      <td>0</td>\n",
       "      <td>No Failure</td>\n",
       "      <td>No Failure</td>\n",
       "    </tr>\n",
       "    <tr>\n",
       "      <th>1</th>\n",
       "      <td>2</td>\n",
       "      <td>L47181</td>\n",
       "      <td>L</td>\n",
       "      <td>298.2</td>\n",
       "      <td>308.7</td>\n",
       "      <td>1408</td>\n",
       "      <td>46.3</td>\n",
       "      <td>3</td>\n",
       "      <td>0</td>\n",
       "      <td>No Failure</td>\n",
       "      <td>No Failure</td>\n",
       "    </tr>\n",
       "    <tr>\n",
       "      <th>2</th>\n",
       "      <td>3</td>\n",
       "      <td>L47182</td>\n",
       "      <td>L</td>\n",
       "      <td>298.1</td>\n",
       "      <td>308.5</td>\n",
       "      <td>1498</td>\n",
       "      <td>49.4</td>\n",
       "      <td>5</td>\n",
       "      <td>0</td>\n",
       "      <td>No Failure</td>\n",
       "      <td>No Failure</td>\n",
       "    </tr>\n",
       "    <tr>\n",
       "      <th>3</th>\n",
       "      <td>4</td>\n",
       "      <td>L47183</td>\n",
       "      <td>L</td>\n",
       "      <td>298.2</td>\n",
       "      <td>308.6</td>\n",
       "      <td>1433</td>\n",
       "      <td>39.5</td>\n",
       "      <td>7</td>\n",
       "      <td>0</td>\n",
       "      <td>No Failure</td>\n",
       "      <td>No Failure</td>\n",
       "    </tr>\n",
       "    <tr>\n",
       "      <th>4</th>\n",
       "      <td>5</td>\n",
       "      <td>L47184</td>\n",
       "      <td>L</td>\n",
       "      <td>298.2</td>\n",
       "      <td>308.7</td>\n",
       "      <td>1408</td>\n",
       "      <td>40.0</td>\n",
       "      <td>9</td>\n",
       "      <td>0</td>\n",
       "      <td>No Failure</td>\n",
       "      <td>No Failure</td>\n",
       "    </tr>\n",
       "  </tbody>\n",
       "</table>\n",
       "</div>"
      ],
      "text/plain": [
       "   UDI Product ID Type  Air temperature [K]  Process temperature [K]  \\\n",
       "0    1     M14860    M                298.1                    308.6   \n",
       "1    2     L47181    L                298.2                    308.7   \n",
       "2    3     L47182    L                298.1                    308.5   \n",
       "3    4     L47183    L                298.2                    308.6   \n",
       "4    5     L47184    L                298.2                    308.7   \n",
       "\n",
       "   Rotational speed [rpm]  Torque [Nm]  Tool wear [min]  Target Failure Type  \\\n",
       "0                    1551         42.8                0       0   No Failure   \n",
       "1                    1408         46.3                3       0   No Failure   \n",
       "2                    1498         49.4                5       0   No Failure   \n",
       "3                    1433         39.5                7       0   No Failure   \n",
       "4                    1408         40.0                9       0   No Failure   \n",
       "\n",
       "  Target_categorical  \n",
       "0         No Failure  \n",
       "1         No Failure  \n",
       "2         No Failure  \n",
       "3         No Failure  \n",
       "4         No Failure  "
      ]
     },
     "execution_count": 22,
     "metadata": {},
     "output_type": "execute_result"
    }
   ],
   "source": [
    "df.head()"
   ]
  },
  {
   "cell_type": "code",
   "execution_count": 23,
   "id": "25fd18f8",
   "metadata": {},
   "outputs": [
    {
     "data": {
      "text/plain": [
       "UDI                        0\n",
       "Product ID                 0\n",
       "Type                       0\n",
       "Air temperature [K]        0\n",
       "Process temperature [K]    0\n",
       "Rotational speed [rpm]     0\n",
       "Torque [Nm]                0\n",
       "Tool wear [min]            0\n",
       "Target                     0\n",
       "Failure Type               0\n",
       "Target_categorical         0\n",
       "dtype: int64"
      ]
     },
     "execution_count": 23,
     "metadata": {},
     "output_type": "execute_result"
    }
   ],
   "source": [
    "### Quick look on any data is poor housekeeping\n",
    "df.isnull().sum()"
   ]
  },
  {
   "cell_type": "markdown",
   "id": "5f223776",
   "metadata": {},
   "source": [
    "Thanks God, there is no any null values in the dataset as well."
   ]
  },
  {
   "cell_type": "code",
   "execution_count": 24,
   "id": "2430f7ef",
   "metadata": {},
   "outputs": [
    {
     "data": {
      "image/png": "[encoded data removed]",
      "text/plain": [
       "<Figure size 432x288 with 1 Axes>"
      ]
     },
     "metadata": {},
     "output_type": "display_data"
    },
    {
     "data": {
      "image/png": "[encoded data removed]",
      "text/plain": [
       "<Figure size 432x288 with 1 Axes>"
      ]
     },
     "metadata": {},
     "output_type": "display_data"
    },
    {
     "data": {
      "image/png": "[encoded data removed]",
      "text/plain": [
       "<Figure size 432x288 with 1 Axes>"
      ]
     },
     "metadata": {},
     "output_type": "display_data"
    }
   ],
   "source": [
    "## Quick look on any typos or inconsistent capitalization\n",
    "for feature in df.dtypes[df.dtypes == \"object\"].drop(\"Product ID\").index:\n",
    "    sns.countplot(y=feature, data=df)\n",
    "    plt.show()"
   ]
  },
  {
   "cell_type": "markdown",
   "id": "56735af4",
   "metadata": {},
   "source": [
    "Seem likes there isn't any typos or inconsistent capization in the dataset."
   ]
  },
  {
   "cell_type": "markdown",
   "id": "0b8f0272",
   "metadata": {},
   "source": [
    "### 2.3 Remove \"Guilty Outlier\""
   ]
  },
  {
   "cell_type": "code",
   "execution_count": 25,
   "id": "860843a1",
   "metadata": {},
   "outputs": [
    {
     "data": {
      "image/png": "[encoded data removed]",
      "text/plain": [
       "<Figure size 432x288 with 1 Axes>"
      ]
     },
     "metadata": {},
     "output_type": "display_data"
    },
    {
     "data": {
      "image/png": "[encoded data removed]",
      "text/plain": [
       "<Figure size 432x288 with 1 Axes>"
      ]
     },
     "metadata": {},
     "output_type": "display_data"
    },
    {
     "data": {
      "image/png": "[encoded data removed]",
      "text/plain": [
       "<Figure size 432x288 with 1 Axes>"
      ]
     },
     "metadata": {},
     "output_type": "display_data"
    },
    {
     "data": {
      "image/png": "[encoded data removed]",
      "text/plain": [
       "<Figure size 432x288 with 1 Axes>"
      ]
     },
     "metadata": {},
     "output_type": "display_data"
    },
    {
     "data": {
      "image/png": "[encoded data removed]",
      "text/plain": [
       "<Figure size 432x288 with 1 Axes>"
      ]
     },
     "metadata": {},
     "output_type": "display_data"
    }
   ],
   "source": [
    "for feature in df.dtypes[df.dtypes != \"object\"].drop([\"UDI\", \"Target\"]).index:\n",
    "    sns.violinplot(x = feature, data=df)\n",
    "    plt.title(\"Chart: {}\".format(feature))\n",
    "    plt.show()"
   ]
  },
  {
   "cell_type": "markdown",
   "id": "323ac6dc",
   "metadata": {},
   "source": [
    "Among those features, it look like there is nothing really stands out as possible outlier."
   ]
  },
  {
   "cell_type": "markdown",
   "id": "505a9fe1",
   "metadata": {},
   "source": [
    "### 2.4 Handle Missing Data"
   ]
  },
  {
   "cell_type": "code",
   "execution_count": 26,
   "id": "04566401",
   "metadata": {},
   "outputs": [
    {
     "data": {
      "text/plain": [
       "UDI                        0\n",
       "Air temperature [K]        0\n",
       "Process temperature [K]    0\n",
       "Rotational speed [rpm]     0\n",
       "Torque [Nm]                0\n",
       "Tool wear [min]            0\n",
       "Target                     0\n",
       "dtype: int64"
      ]
     },
     "execution_count": 26,
     "metadata": {},
     "output_type": "execute_result"
    }
   ],
   "source": [
    "## Quick look on any missing data in numeric features\n",
    "df.select_dtypes(exclude=[\"object\"]).isnull().sum()"
   ]
  },
  {
   "cell_type": "code",
   "execution_count": 27,
   "id": "0192e406",
   "metadata": {},
   "outputs": [
    {
     "data": {
      "text/plain": [
       "Product ID            0\n",
       "Type                  0\n",
       "Failure Type          0\n",
       "Target_categorical    0\n",
       "dtype: int64"
      ]
     },
     "execution_count": 27,
     "metadata": {},
     "output_type": "execute_result"
    }
   ],
   "source": [
    "## Quick look on any missing data in categorical features\n",
    "df.select_dtypes(include=[\"object\"]).isnull().sum()"
   ]
  },
  {
   "cell_type": "markdown",
   "id": "e8503d57",
   "metadata": {},
   "source": [
    "We don't have any missing values for both numerical features and categorical features in this dataset."
   ]
  },
  {
   "cell_type": "markdown",
   "id": "717049b5",
   "metadata": {},
   "source": [
    "## 3.0 Feature Engineering"
   ]
  },
  {
   "cell_type": "markdown",
   "id": "cb5cdd37",
   "metadata": {},
   "source": [
    "### 3.1 Leverage Domain Knowledge"
   ]
  },
  {
   "cell_type": "code",
   "execution_count": 28,
   "id": "91f32bbd",
   "metadata": {},
   "outputs": [
    {
     "data": {
      "text/html": [
       "<div>\n",
       "<style scoped>\n",
       "    .dataframe tbody tr th:only-of-type {\n",
       "        vertical-align: middle;\n",
       "    }\n",
       "\n",
       "    .dataframe tbody tr th {\n",
       "        vertical-align: top;\n",
       "    }\n",
       "\n",
       "    .dataframe thead th {\n",
       "        text-align: right;\n",
       "    }\n",
       "</style>\n",
       "<table border=\"1\" class=\"dataframe\">\n",
       "  <thead>\n",
       "    <tr style=\"text-align: right;\">\n",
       "      <th></th>\n",
       "      <th>Type</th>\n",
       "      <th>Air temperature [K]</th>\n",
       "      <th>Process temperature [K]</th>\n",
       "      <th>Rotational speed [rpm]</th>\n",
       "      <th>Torque [Nm]</th>\n",
       "      <th>Tool wear [min]</th>\n",
       "      <th>Target</th>\n",
       "    </tr>\n",
       "  </thead>\n",
       "  <tbody>\n",
       "    <tr>\n",
       "      <th>0</th>\n",
       "      <td>M</td>\n",
       "      <td>298.1</td>\n",
       "      <td>308.6</td>\n",
       "      <td>1551</td>\n",
       "      <td>42.8</td>\n",
       "      <td>0</td>\n",
       "      <td>0</td>\n",
       "    </tr>\n",
       "    <tr>\n",
       "      <th>1</th>\n",
       "      <td>L</td>\n",
       "      <td>298.2</td>\n",
       "      <td>308.7</td>\n",
       "      <td>1408</td>\n",
       "      <td>46.3</td>\n",
       "      <td>3</td>\n",
       "      <td>0</td>\n",
       "    </tr>\n",
       "    <tr>\n",
       "      <th>2</th>\n",
       "      <td>L</td>\n",
       "      <td>298.1</td>\n",
       "      <td>308.5</td>\n",
       "      <td>1498</td>\n",
       "      <td>49.4</td>\n",
       "      <td>5</td>\n",
       "      <td>0</td>\n",
       "    </tr>\n",
       "    <tr>\n",
       "      <th>3</th>\n",
       "      <td>L</td>\n",
       "      <td>298.2</td>\n",
       "      <td>308.6</td>\n",
       "      <td>1433</td>\n",
       "      <td>39.5</td>\n",
       "      <td>7</td>\n",
       "      <td>0</td>\n",
       "    </tr>\n",
       "    <tr>\n",
       "      <th>4</th>\n",
       "      <td>L</td>\n",
       "      <td>298.2</td>\n",
       "      <td>308.7</td>\n",
       "      <td>1408</td>\n",
       "      <td>40.0</td>\n",
       "      <td>9</td>\n",
       "      <td>0</td>\n",
       "    </tr>\n",
       "  </tbody>\n",
       "</table>\n",
       "</div>"
      ],
      "text/plain": [
       "  Type  Air temperature [K]  Process temperature [K]  Rotational speed [rpm]  \\\n",
       "0    M                298.1                    308.6                    1551   \n",
       "1    L                298.2                    308.7                    1408   \n",
       "2    L                298.1                    308.5                    1498   \n",
       "3    L                298.2                    308.6                    1433   \n",
       "4    L                298.2                    308.7                    1408   \n",
       "\n",
       "   Torque [Nm]  Tool wear [min]  Target  \n",
       "0         42.8                0       0  \n",
       "1         46.3                3       0  \n",
       "2         49.4                5       0  \n",
       "3         39.5                7       0  \n",
       "4         40.0                9       0  "
      ]
     },
     "execution_count": 28,
     "metadata": {},
     "output_type": "execute_result"
    }
   ],
   "source": [
    "## UDI, Product ID, Failure Type and Target_categorical can be removed as they wont have any contribution to this project\n",
    "new_df = df.copy()\n",
    "new_df = new_df.drop([\"UDI\", \"Product ID\", \"Failure Type\", \"Target_categorical\"], axis=1)\n",
    "\n",
    "new_df.head()"
   ]
  },
  {
   "cell_type": "markdown",
   "id": "cba6f66c",
   "metadata": {},
   "source": [
    "### 3.2 Create Interaction Features"
   ]
  },
  {
   "cell_type": "code",
   "execution_count": 29,
   "id": "85c615c9",
   "metadata": {},
   "outputs": [
    {
     "data": {
      "text/html": [
       "<div>\n",
       "<style scoped>\n",
       "    .dataframe tbody tr th:only-of-type {\n",
       "        vertical-align: middle;\n",
       "    }\n",
       "\n",
       "    .dataframe tbody tr th {\n",
       "        vertical-align: top;\n",
       "    }\n",
       "\n",
       "    .dataframe thead th {\n",
       "        text-align: right;\n",
       "    }\n",
       "</style>\n",
       "<table border=\"1\" class=\"dataframe\">\n",
       "  <thead>\n",
       "    <tr style=\"text-align: right;\">\n",
       "      <th></th>\n",
       "      <th>Type</th>\n",
       "      <th>Air temperature [K]</th>\n",
       "      <th>Process temperature [K]</th>\n",
       "      <th>Rotational speed [rpm]</th>\n",
       "      <th>Torque [Nm]</th>\n",
       "      <th>Tool wear [min]</th>\n",
       "      <th>Target</th>\n",
       "      <th>Output Power</th>\n",
       "    </tr>\n",
       "  </thead>\n",
       "  <tbody>\n",
       "    <tr>\n",
       "      <th>0</th>\n",
       "      <td>M</td>\n",
       "      <td>298.1</td>\n",
       "      <td>308.6</td>\n",
       "      <td>1551</td>\n",
       "      <td>42.8</td>\n",
       "      <td>0</td>\n",
       "      <td>0</td>\n",
       "      <td>66382.8</td>\n",
       "    </tr>\n",
       "    <tr>\n",
       "      <th>1</th>\n",
       "      <td>L</td>\n",
       "      <td>298.2</td>\n",
       "      <td>308.7</td>\n",
       "      <td>1408</td>\n",
       "      <td>46.3</td>\n",
       "      <td>3</td>\n",
       "      <td>0</td>\n",
       "      <td>65190.4</td>\n",
       "    </tr>\n",
       "    <tr>\n",
       "      <th>2</th>\n",
       "      <td>L</td>\n",
       "      <td>298.1</td>\n",
       "      <td>308.5</td>\n",
       "      <td>1498</td>\n",
       "      <td>49.4</td>\n",
       "      <td>5</td>\n",
       "      <td>0</td>\n",
       "      <td>74001.2</td>\n",
       "    </tr>\n",
       "    <tr>\n",
       "      <th>3</th>\n",
       "      <td>L</td>\n",
       "      <td>298.2</td>\n",
       "      <td>308.6</td>\n",
       "      <td>1433</td>\n",
       "      <td>39.5</td>\n",
       "      <td>7</td>\n",
       "      <td>0</td>\n",
       "      <td>56603.5</td>\n",
       "    </tr>\n",
       "    <tr>\n",
       "      <th>4</th>\n",
       "      <td>L</td>\n",
       "      <td>298.2</td>\n",
       "      <td>308.7</td>\n",
       "      <td>1408</td>\n",
       "      <td>40.0</td>\n",
       "      <td>9</td>\n",
       "      <td>0</td>\n",
       "      <td>56320.0</td>\n",
       "    </tr>\n",
       "  </tbody>\n",
       "</table>\n",
       "</div>"
      ],
      "text/plain": [
       "  Type  Air temperature [K]  Process temperature [K]  Rotational speed [rpm]  \\\n",
       "0    M                298.1                    308.6                    1551   \n",
       "1    L                298.2                    308.7                    1408   \n",
       "2    L                298.1                    308.5                    1498   \n",
       "3    L                298.2                    308.6                    1433   \n",
       "4    L                298.2                    308.7                    1408   \n",
       "\n",
       "   Torque [Nm]  Tool wear [min]  Target  Output Power  \n",
       "0         42.8                0       0       66382.8  \n",
       "1         46.3                3       0       65190.4  \n",
       "2         49.4                5       0       74001.2  \n",
       "3         39.5                7       0       56603.5  \n",
       "4         40.0                9       0       56320.0  "
      ]
     },
     "execution_count": 29,
     "metadata": {},
     "output_type": "execute_result"
    }
   ],
   "source": [
    "## Its is good to have the output power of the machine\n",
    "new_df[\"Output Power\"] = new_df[\"Rotational speed [rpm]\"] * new_df[\"Torque [Nm]\"]\n",
    "\n",
    "new_df.head()"
   ]
  },
  {
   "cell_type": "code",
   "execution_count": 30,
   "id": "5f22c080",
   "metadata": {},
   "outputs": [
    {
     "data": {
      "text/html": [
       "<div>\n",
       "<style scoped>\n",
       "    .dataframe tbody tr th:only-of-type {\n",
       "        vertical-align: middle;\n",
       "    }\n",
       "\n",
       "    .dataframe tbody tr th {\n",
       "        vertical-align: top;\n",
       "    }\n",
       "\n",
       "    .dataframe thead th {\n",
       "        text-align: right;\n",
       "    }\n",
       "</style>\n",
       "<table border=\"1\" class=\"dataframe\">\n",
       "  <thead>\n",
       "    <tr style=\"text-align: right;\">\n",
       "      <th></th>\n",
       "      <th>Air temperature [K]</th>\n",
       "      <th>Process temperature [K]</th>\n",
       "      <th>Rotational speed [rpm]</th>\n",
       "      <th>Torque [Nm]</th>\n",
       "      <th>Tool wear [min]</th>\n",
       "      <th>Target</th>\n",
       "      <th>Output Power</th>\n",
       "    </tr>\n",
       "  </thead>\n",
       "  <tbody>\n",
       "    <tr>\n",
       "      <th>count</th>\n",
       "      <td>10000.000000</td>\n",
       "      <td>10000.000000</td>\n",
       "      <td>10000.000000</td>\n",
       "      <td>10000.000000</td>\n",
       "      <td>10000.000000</td>\n",
       "      <td>10000.000000</td>\n",
       "      <td>10000.000000</td>\n",
       "    </tr>\n",
       "    <tr>\n",
       "      <th>mean</th>\n",
       "      <td>300.004930</td>\n",
       "      <td>310.005560</td>\n",
       "      <td>1538.776100</td>\n",
       "      <td>39.986910</td>\n",
       "      <td>107.951000</td>\n",
       "      <td>0.033900</td>\n",
       "      <td>59967.147040</td>\n",
       "    </tr>\n",
       "    <tr>\n",
       "      <th>std</th>\n",
       "      <td>2.000259</td>\n",
       "      <td>1.483734</td>\n",
       "      <td>179.284096</td>\n",
       "      <td>9.968934</td>\n",
       "      <td>63.654147</td>\n",
       "      <td>0.180981</td>\n",
       "      <td>10193.093881</td>\n",
       "    </tr>\n",
       "    <tr>\n",
       "      <th>min</th>\n",
       "      <td>295.300000</td>\n",
       "      <td>305.700000</td>\n",
       "      <td>1168.000000</td>\n",
       "      <td>3.800000</td>\n",
       "      <td>0.000000</td>\n",
       "      <td>0.000000</td>\n",
       "      <td>10966.800000</td>\n",
       "    </tr>\n",
       "    <tr>\n",
       "      <th>25%</th>\n",
       "      <td>298.300000</td>\n",
       "      <td>308.800000</td>\n",
       "      <td>1423.000000</td>\n",
       "      <td>33.200000</td>\n",
       "      <td>53.000000</td>\n",
       "      <td>0.000000</td>\n",
       "      <td>53105.400000</td>\n",
       "    </tr>\n",
       "    <tr>\n",
       "      <th>50%</th>\n",
       "      <td>300.100000</td>\n",
       "      <td>310.100000</td>\n",
       "      <td>1503.000000</td>\n",
       "      <td>40.100000</td>\n",
       "      <td>108.000000</td>\n",
       "      <td>0.000000</td>\n",
       "      <td>59883.900000</td>\n",
       "    </tr>\n",
       "    <tr>\n",
       "      <th>75%</th>\n",
       "      <td>301.500000</td>\n",
       "      <td>311.100000</td>\n",
       "      <td>1612.000000</td>\n",
       "      <td>46.800000</td>\n",
       "      <td>162.000000</td>\n",
       "      <td>0.000000</td>\n",
       "      <td>66873.750000</td>\n",
       "    </tr>\n",
       "    <tr>\n",
       "      <th>max</th>\n",
       "      <td>304.500000</td>\n",
       "      <td>313.800000</td>\n",
       "      <td>2886.000000</td>\n",
       "      <td>76.600000</td>\n",
       "      <td>253.000000</td>\n",
       "      <td>1.000000</td>\n",
       "      <td>99980.400000</td>\n",
       "    </tr>\n",
       "  </tbody>\n",
       "</table>\n",
       "</div>"
      ],
      "text/plain": [
       "       Air temperature [K]  Process temperature [K]  Rotational speed [rpm]  \\\n",
       "count         10000.000000             10000.000000            10000.000000   \n",
       "mean            300.004930               310.005560             1538.776100   \n",
       "std               2.000259                 1.483734              179.284096   \n",
       "min             295.300000               305.700000             1168.000000   \n",
       "25%             298.300000               308.800000             1423.000000   \n",
       "50%             300.100000               310.100000             1503.000000   \n",
       "75%             301.500000               311.100000             1612.000000   \n",
       "max             304.500000               313.800000             2886.000000   \n",
       "\n",
       "        Torque [Nm]  Tool wear [min]        Target  Output Power  \n",
       "count  10000.000000     10000.000000  10000.000000  10000.000000  \n",
       "mean      39.986910       107.951000      0.033900  59967.147040  \n",
       "std        9.968934        63.654147      0.180981  10193.093881  \n",
       "min        3.800000         0.000000      0.000000  10966.800000  \n",
       "25%       33.200000        53.000000      0.000000  53105.400000  \n",
       "50%       40.100000       108.000000      0.000000  59883.900000  \n",
       "75%       46.800000       162.000000      0.000000  66873.750000  \n",
       "max       76.600000       253.000000      1.000000  99980.400000  "
      ]
     },
     "execution_count": 30,
     "metadata": {},
     "output_type": "execute_result"
    }
   ],
   "source": [
    "new_df.describe()"
   ]
  },
  {
   "cell_type": "markdown",
   "id": "91e2823f",
   "metadata": {},
   "source": [
    "### 3.3 Group Sparse Classes"
   ]
  },
  {
   "cell_type": "markdown",
   "id": "3ad3fa0b",
   "metadata": {},
   "source": [
    "There is no sparse classes need to be group"
   ]
  },
  {
   "cell_type": "markdown",
   "id": "ea2e03f3",
   "metadata": {},
   "source": [
    "### 3.4 Prepare Analytical Base Table"
   ]
  },
  {
   "cell_type": "code",
   "execution_count": 31,
   "id": "97d9f3a3",
   "metadata": {},
   "outputs": [
    {
     "data": {
      "text/html": [
       "<div>\n",
       "<style scoped>\n",
       "    .dataframe tbody tr th:only-of-type {\n",
       "        vertical-align: middle;\n",
       "    }\n",
       "\n",
       "    .dataframe tbody tr th {\n",
       "        vertical-align: top;\n",
       "    }\n",
       "\n",
       "    .dataframe thead th {\n",
       "        text-align: right;\n",
       "    }\n",
       "</style>\n",
       "<table border=\"1\" class=\"dataframe\">\n",
       "  <thead>\n",
       "    <tr style=\"text-align: right;\">\n",
       "      <th></th>\n",
       "      <th>Air temperature [K]</th>\n",
       "      <th>Process temperature [K]</th>\n",
       "      <th>Rotational speed [rpm]</th>\n",
       "      <th>Torque [Nm]</th>\n",
       "      <th>Tool wear [min]</th>\n",
       "      <th>Target</th>\n",
       "      <th>Output Power</th>\n",
       "      <th>Type_H</th>\n",
       "      <th>Type_L</th>\n",
       "      <th>Type_M</th>\n",
       "    </tr>\n",
       "  </thead>\n",
       "  <tbody>\n",
       "    <tr>\n",
       "      <th>0</th>\n",
       "      <td>298.1</td>\n",
       "      <td>308.6</td>\n",
       "      <td>1551</td>\n",
       "      <td>42.8</td>\n",
       "      <td>0</td>\n",
       "      <td>0</td>\n",
       "      <td>66382.8</td>\n",
       "      <td>0</td>\n",
       "      <td>0</td>\n",
       "      <td>1</td>\n",
       "    </tr>\n",
       "    <tr>\n",
       "      <th>1</th>\n",
       "      <td>298.2</td>\n",
       "      <td>308.7</td>\n",
       "      <td>1408</td>\n",
       "      <td>46.3</td>\n",
       "      <td>3</td>\n",
       "      <td>0</td>\n",
       "      <td>65190.4</td>\n",
       "      <td>0</td>\n",
       "      <td>1</td>\n",
       "      <td>0</td>\n",
       "    </tr>\n",
       "    <tr>\n",
       "      <th>2</th>\n",
       "      <td>298.1</td>\n",
       "      <td>308.5</td>\n",
       "      <td>1498</td>\n",
       "      <td>49.4</td>\n",
       "      <td>5</td>\n",
       "      <td>0</td>\n",
       "      <td>74001.2</td>\n",
       "      <td>0</td>\n",
       "      <td>1</td>\n",
       "      <td>0</td>\n",
       "    </tr>\n",
       "    <tr>\n",
       "      <th>3</th>\n",
       "      <td>298.2</td>\n",
       "      <td>308.6</td>\n",
       "      <td>1433</td>\n",
       "      <td>39.5</td>\n",
       "      <td>7</td>\n",
       "      <td>0</td>\n",
       "      <td>56603.5</td>\n",
       "      <td>0</td>\n",
       "      <td>1</td>\n",
       "      <td>0</td>\n",
       "    </tr>\n",
       "    <tr>\n",
       "      <th>4</th>\n",
       "      <td>298.2</td>\n",
       "      <td>308.7</td>\n",
       "      <td>1408</td>\n",
       "      <td>40.0</td>\n",
       "      <td>9</td>\n",
       "      <td>0</td>\n",
       "      <td>56320.0</td>\n",
       "      <td>0</td>\n",
       "      <td>1</td>\n",
       "      <td>0</td>\n",
       "    </tr>\n",
       "  </tbody>\n",
       "</table>\n",
       "</div>"
      ],
      "text/plain": [
       "   Air temperature [K]  Process temperature [K]  Rotational speed [rpm]  \\\n",
       "0                298.1                    308.6                    1551   \n",
       "1                298.2                    308.7                    1408   \n",
       "2                298.1                    308.5                    1498   \n",
       "3                298.2                    308.6                    1433   \n",
       "4                298.2                    308.7                    1408   \n",
       "\n",
       "   Torque [Nm]  Tool wear [min]  Target  Output Power  Type_H  Type_L  Type_M  \n",
       "0         42.8                0       0       66382.8       0       0       1  \n",
       "1         46.3                3       0       65190.4       0       1       0  \n",
       "2         49.4                5       0       74001.2       0       1       0  \n",
       "3         39.5                7       0       56603.5       0       1       0  \n",
       "4         40.0                9       0       56320.0       0       1       0  "
      ]
     },
     "execution_count": 31,
     "metadata": {},
     "output_type": "execute_result"
    }
   ],
   "source": [
    "pd.get_dummies(new_df, columns=[\"Type\"]).head()"
   ]
  },
  {
   "cell_type": "code",
   "execution_count": 32,
   "id": "02c57164",
   "metadata": {},
   "outputs": [
    {
     "data": {
      "text/html": [
       "<div>\n",
       "<style scoped>\n",
       "    .dataframe tbody tr th:only-of-type {\n",
       "        vertical-align: middle;\n",
       "    }\n",
       "\n",
       "    .dataframe tbody tr th {\n",
       "        vertical-align: top;\n",
       "    }\n",
       "\n",
       "    .dataframe thead th {\n",
       "        text-align: right;\n",
       "    }\n",
       "</style>\n",
       "<table border=\"1\" class=\"dataframe\">\n",
       "  <thead>\n",
       "    <tr style=\"text-align: right;\">\n",
       "      <th></th>\n",
       "      <th>Air temperature [K]</th>\n",
       "      <th>Process temperature [K]</th>\n",
       "      <th>Rotational speed [rpm]</th>\n",
       "      <th>Torque [Nm]</th>\n",
       "      <th>Tool wear [min]</th>\n",
       "      <th>Target</th>\n",
       "      <th>Output Power</th>\n",
       "      <th>Type_H</th>\n",
       "      <th>Type_L</th>\n",
       "      <th>Type_M</th>\n",
       "    </tr>\n",
       "  </thead>\n",
       "  <tbody>\n",
       "    <tr>\n",
       "      <th>0</th>\n",
       "      <td>298.1</td>\n",
       "      <td>308.6</td>\n",
       "      <td>1551</td>\n",
       "      <td>42.8</td>\n",
       "      <td>0</td>\n",
       "      <td>0</td>\n",
       "      <td>66382.8</td>\n",
       "      <td>0</td>\n",
       "      <td>0</td>\n",
       "      <td>1</td>\n",
       "    </tr>\n",
       "    <tr>\n",
       "      <th>1</th>\n",
       "      <td>298.2</td>\n",
       "      <td>308.7</td>\n",
       "      <td>1408</td>\n",
       "      <td>46.3</td>\n",
       "      <td>3</td>\n",
       "      <td>0</td>\n",
       "      <td>65190.4</td>\n",
       "      <td>0</td>\n",
       "      <td>1</td>\n",
       "      <td>0</td>\n",
       "    </tr>\n",
       "    <tr>\n",
       "      <th>2</th>\n",
       "      <td>298.1</td>\n",
       "      <td>308.5</td>\n",
       "      <td>1498</td>\n",
       "      <td>49.4</td>\n",
       "      <td>5</td>\n",
       "      <td>0</td>\n",
       "      <td>74001.2</td>\n",
       "      <td>0</td>\n",
       "      <td>1</td>\n",
       "      <td>0</td>\n",
       "    </tr>\n",
       "    <tr>\n",
       "      <th>3</th>\n",
       "      <td>298.2</td>\n",
       "      <td>308.6</td>\n",
       "      <td>1433</td>\n",
       "      <td>39.5</td>\n",
       "      <td>7</td>\n",
       "      <td>0</td>\n",
       "      <td>56603.5</td>\n",
       "      <td>0</td>\n",
       "      <td>1</td>\n",
       "      <td>0</td>\n",
       "    </tr>\n",
       "    <tr>\n",
       "      <th>4</th>\n",
       "      <td>298.2</td>\n",
       "      <td>308.7</td>\n",
       "      <td>1408</td>\n",
       "      <td>40.0</td>\n",
       "      <td>9</td>\n",
       "      <td>0</td>\n",
       "      <td>56320.0</td>\n",
       "      <td>0</td>\n",
       "      <td>1</td>\n",
       "      <td>0</td>\n",
       "    </tr>\n",
       "    <tr>\n",
       "      <th>5</th>\n",
       "      <td>298.1</td>\n",
       "      <td>308.6</td>\n",
       "      <td>1425</td>\n",
       "      <td>41.9</td>\n",
       "      <td>11</td>\n",
       "      <td>0</td>\n",
       "      <td>59707.5</td>\n",
       "      <td>0</td>\n",
       "      <td>0</td>\n",
       "      <td>1</td>\n",
       "    </tr>\n",
       "    <tr>\n",
       "      <th>6</th>\n",
       "      <td>298.1</td>\n",
       "      <td>308.6</td>\n",
       "      <td>1558</td>\n",
       "      <td>42.4</td>\n",
       "      <td>14</td>\n",
       "      <td>0</td>\n",
       "      <td>66059.2</td>\n",
       "      <td>0</td>\n",
       "      <td>1</td>\n",
       "      <td>0</td>\n",
       "    </tr>\n",
       "    <tr>\n",
       "      <th>7</th>\n",
       "      <td>298.1</td>\n",
       "      <td>308.6</td>\n",
       "      <td>1527</td>\n",
       "      <td>40.2</td>\n",
       "      <td>16</td>\n",
       "      <td>0</td>\n",
       "      <td>61385.4</td>\n",
       "      <td>0</td>\n",
       "      <td>1</td>\n",
       "      <td>0</td>\n",
       "    </tr>\n",
       "    <tr>\n",
       "      <th>8</th>\n",
       "      <td>298.3</td>\n",
       "      <td>308.7</td>\n",
       "      <td>1667</td>\n",
       "      <td>28.6</td>\n",
       "      <td>18</td>\n",
       "      <td>0</td>\n",
       "      <td>47676.2</td>\n",
       "      <td>0</td>\n",
       "      <td>0</td>\n",
       "      <td>1</td>\n",
       "    </tr>\n",
       "    <tr>\n",
       "      <th>9</th>\n",
       "      <td>298.5</td>\n",
       "      <td>309.0</td>\n",
       "      <td>1741</td>\n",
       "      <td>28.0</td>\n",
       "      <td>21</td>\n",
       "      <td>0</td>\n",
       "      <td>48748.0</td>\n",
       "      <td>0</td>\n",
       "      <td>0</td>\n",
       "      <td>1</td>\n",
       "    </tr>\n",
       "  </tbody>\n",
       "</table>\n",
       "</div>"
      ],
      "text/plain": [
       "   Air temperature [K]  Process temperature [K]  Rotational speed [rpm]  \\\n",
       "0                298.1                    308.6                    1551   \n",
       "1                298.2                    308.7                    1408   \n",
       "2                298.1                    308.5                    1498   \n",
       "3                298.2                    308.6                    1433   \n",
       "4                298.2                    308.7                    1408   \n",
       "5                298.1                    308.6                    1425   \n",
       "6                298.1                    308.6                    1558   \n",
       "7                298.1                    308.6                    1527   \n",
       "8                298.3                    308.7                    1667   \n",
       "9                298.5                    309.0                    1741   \n",
       "\n",
       "   Torque [Nm]  Tool wear [min]  Target  Output Power  Type_H  Type_L  Type_M  \n",
       "0         42.8                0       0       66382.8       0       0       1  \n",
       "1         46.3                3       0       65190.4       0       1       0  \n",
       "2         49.4                5       0       74001.2       0       1       0  \n",
       "3         39.5                7       0       56603.5       0       1       0  \n",
       "4         40.0                9       0       56320.0       0       1       0  \n",
       "5         41.9               11       0       59707.5       0       0       1  \n",
       "6         42.4               14       0       66059.2       0       1       0  \n",
       "7         40.2               16       0       61385.4       0       1       0  \n",
       "8         28.6               18       0       47676.2       0       0       1  \n",
       "9         28.0               21       0       48748.0       0       0       1  "
      ]
     },
     "execution_count": 32,
     "metadata": {},
     "output_type": "execute_result"
    }
   ],
   "source": [
    "## Save to new ABT dataframe\n",
    "abt_df = pd.get_dummies(new_df, columns=[\"Type\"])\n",
    "\n",
    "abt_df.head(10)"
   ]
  },
  {
   "cell_type": "markdown",
   "id": "6410b1c6",
   "metadata": {},
   "source": [
    "## 4.0 Algorithm Selection"
   ]
  },
  {
   "cell_type": "markdown",
   "id": "827f3179",
   "metadata": {},
   "source": [
    "We will use three algorithms for this project. Namely:\n",
    "1. Logistic Regression\n",
    "2. Random Forest\n",
    "3. Gradient Boosting"
   ]
  },
  {
   "cell_type": "markdown",
   "id": "b29713f6",
   "metadata": {},
   "source": [
    "## 5.0 Model Training"
   ]
  },
  {
   "cell_type": "markdown",
   "id": "96e50792",
   "metadata": {},
   "source": [
    "### 5.1 Split Your Dataset"
   ]
  },
  {
   "cell_type": "code",
   "execution_count": 33,
   "id": "f88d334a",
   "metadata": {},
   "outputs": [
    {
     "data": {
      "text/html": [
       "<div>\n",
       "<style scoped>\n",
       "    .dataframe tbody tr th:only-of-type {\n",
       "        vertical-align: middle;\n",
       "    }\n",
       "\n",
       "    .dataframe tbody tr th {\n",
       "        vertical-align: top;\n",
       "    }\n",
       "\n",
       "    .dataframe thead th {\n",
       "        text-align: right;\n",
       "    }\n",
       "</style>\n",
       "<table border=\"1\" class=\"dataframe\">\n",
       "  <thead>\n",
       "    <tr style=\"text-align: right;\">\n",
       "      <th></th>\n",
       "      <th>Air temperature [K]</th>\n",
       "      <th>Process temperature [K]</th>\n",
       "      <th>Rotational speed [rpm]</th>\n",
       "      <th>Torque [Nm]</th>\n",
       "      <th>Tool wear [min]</th>\n",
       "      <th>Target</th>\n",
       "      <th>Output Power</th>\n",
       "      <th>Type_H</th>\n",
       "      <th>Type_L</th>\n",
       "      <th>Type_M</th>\n",
       "    </tr>\n",
       "  </thead>\n",
       "  <tbody>\n",
       "    <tr>\n",
       "      <th>0</th>\n",
       "      <td>298.1</td>\n",
       "      <td>308.6</td>\n",
       "      <td>1551</td>\n",
       "      <td>42.8</td>\n",
       "      <td>0</td>\n",
       "      <td>0</td>\n",
       "      <td>66382.8</td>\n",
       "      <td>0</td>\n",
       "      <td>0</td>\n",
       "      <td>1</td>\n",
       "    </tr>\n",
       "    <tr>\n",
       "      <th>1</th>\n",
       "      <td>298.2</td>\n",
       "      <td>308.7</td>\n",
       "      <td>1408</td>\n",
       "      <td>46.3</td>\n",
       "      <td>3</td>\n",
       "      <td>0</td>\n",
       "      <td>65190.4</td>\n",
       "      <td>0</td>\n",
       "      <td>1</td>\n",
       "      <td>0</td>\n",
       "    </tr>\n",
       "    <tr>\n",
       "      <th>2</th>\n",
       "      <td>298.1</td>\n",
       "      <td>308.5</td>\n",
       "      <td>1498</td>\n",
       "      <td>49.4</td>\n",
       "      <td>5</td>\n",
       "      <td>0</td>\n",
       "      <td>74001.2</td>\n",
       "      <td>0</td>\n",
       "      <td>1</td>\n",
       "      <td>0</td>\n",
       "    </tr>\n",
       "    <tr>\n",
       "      <th>3</th>\n",
       "      <td>298.2</td>\n",
       "      <td>308.6</td>\n",
       "      <td>1433</td>\n",
       "      <td>39.5</td>\n",
       "      <td>7</td>\n",
       "      <td>0</td>\n",
       "      <td>56603.5</td>\n",
       "      <td>0</td>\n",
       "      <td>1</td>\n",
       "      <td>0</td>\n",
       "    </tr>\n",
       "    <tr>\n",
       "      <th>4</th>\n",
       "      <td>298.2</td>\n",
       "      <td>308.7</td>\n",
       "      <td>1408</td>\n",
       "      <td>40.0</td>\n",
       "      <td>9</td>\n",
       "      <td>0</td>\n",
       "      <td>56320.0</td>\n",
       "      <td>0</td>\n",
       "      <td>1</td>\n",
       "      <td>0</td>\n",
       "    </tr>\n",
       "  </tbody>\n",
       "</table>\n",
       "</div>"
      ],
      "text/plain": [
       "   Air temperature [K]  Process temperature [K]  Rotational speed [rpm]  \\\n",
       "0                298.1                    308.6                    1551   \n",
       "1                298.2                    308.7                    1408   \n",
       "2                298.1                    308.5                    1498   \n",
       "3                298.2                    308.6                    1433   \n",
       "4                298.2                    308.7                    1408   \n",
       "\n",
       "   Torque [Nm]  Tool wear [min]  Target  Output Power  Type_H  Type_L  Type_M  \n",
       "0         42.8                0       0       66382.8       0       0       1  \n",
       "1         46.3                3       0       65190.4       0       1       0  \n",
       "2         49.4                5       0       74001.2       0       1       0  \n",
       "3         39.5                7       0       56603.5       0       1       0  \n",
       "4         40.0                9       0       56320.0       0       1       0  "
      ]
     },
     "execution_count": 33,
     "metadata": {},
     "output_type": "execute_result"
    }
   ],
   "source": [
    "## Let's show the ABT df\n",
    "abt_df.head()"
   ]
  },
  {
   "cell_type": "code",
   "execution_count": 34,
   "id": "85ac9aab",
   "metadata": {},
   "outputs": [],
   "source": [
    "## Create separate object for target variable\n",
    "y = abt_df[\"Target\"]\n",
    "\n",
    "## Create separate object for input features\n",
    "X = abt_df.drop(\"Target\", axis=1)"
   ]
  },
  {
   "cell_type": "code",
   "execution_count": 35,
   "id": "5125a6e4",
   "metadata": {},
   "outputs": [
    {
     "name": "stdout",
     "output_type": "stream",
     "text": [
      "8000 2000 8000 2000\n"
     ]
    }
   ],
   "source": [
    "## Split X and y into train and test sets\n",
    "## Stratified to balance the target variables\n",
    "X_train, X_test, y_train, y_test = train_test_split(X, y, test_size=0.2, random_state=1234, stratify=y)\n",
    "\n",
    "print(len(X_train), len(X_test), len(y_train), len(y_test))"
   ]
  },
  {
   "cell_type": "markdown",
   "id": "adc9f567",
   "metadata": {},
   "source": [
    "### 5.2 Build Model Pipelines"
   ]
  },
  {
   "cell_type": "markdown",
   "id": "e602e089",
   "metadata": {},
   "source": [
    "1. <code style=\"color:crimson\">'l1'</code> for L1-regularized logistic regression\n",
    "2. <code style=\"color:crimson\">'l2'</code> for L2-regularized logistic regression\n",
    "3. <code style=\"color:crimson\">'rf'</code> for random forest\n",
    "4. <code style=\"color:crimson\">'gb'</code> for gradient boosted tree."
   ]
  },
  {
   "cell_type": "code",
   "execution_count": null,
   "id": "6c5ab571",
   "metadata": {},
   "outputs": [],
   "source": [
    "## Latest update required Logistic Regression function to set solver to the \"liblinear\" for l1 and l2\n",
    "## Function below to discover the best solver\n",
    "## Resource links -> https://towardsdatascience.com/dont-sweat-the-solver-stuff-aea7cddc3451\n",
    "solver_list = ['liblinear', 'newton-cg', 'lbfgs', 'sag', 'saga']\n",
    "params = dict(solver=solver_list)\n",
    "log_reg = LogisticRegression(C=1, n_jobs=-1, random_state=123)\n",
    "clf = GridSearchCV(log_reg, params, cv=5)\n",
    "clf.fit(X, y)\n",
    "scores = clf.cv_results_['mean_test_score']"
   ]
  },
  {
   "cell_type": "code",
   "execution_count": 37,
   "id": "36a546d7",
   "metadata": {},
   "outputs": [
    {
     "name": "stdout",
     "output_type": "stream",
     "text": [
      "  liblinear 0.970\n",
      "  newton-cg 0.969\n",
      "  lbfgs 0.970\n",
      "  sag 0.966\n",
      "  saga 0.966\n"
     ]
    }
   ],
   "source": [
    "for score, solver in zip(scores, solver_list):\n",
    "    print(f\"  {solver} {score:.3f}\" )"
   ]
  },
  {
   "cell_type": "code",
   "execution_count": 38,
   "id": "74922993",
   "metadata": {},
   "outputs": [],
   "source": [
    "pipelines = {\n",
    "    \"l1\" : make_pipeline(StandardScaler(), LogisticRegression(penalty=\"l1\", solver=\"liblinear\", random_state=123)),\n",
    "    \"l2\" : make_pipeline(StandardScaler(), LogisticRegression(penalty=\"l2\", solver=\"liblinear\", random_state=123)),\n",
    "    \"rf\" : make_pipeline(StandardScaler(), RandomForestClassifier(random_state=123)),\n",
    "    \"gb\" : make_pipeline(StandardScaler(), GradientBoostingClassifier(random_state=123))\n",
    "}"
   ]
  },
  {
   "cell_type": "markdown",
   "id": "c77060ae",
   "metadata": {},
   "source": [
    "### 5.3 Declare Hyperparamater Grids"
   ]
  },
  {
   "cell_type": "code",
   "execution_count": 39,
   "id": "081cb295",
   "metadata": {},
   "outputs": [
    {
     "data": {
      "text/plain": [
       "{'memory': None,\n",
       " 'steps': [('standardscaler', StandardScaler()),\n",
       "  ('logisticregression',\n",
       "   LogisticRegression(penalty='l1', random_state=123, solver='liblinear'))],\n",
       " 'verbose': False,\n",
       " 'standardscaler': StandardScaler(),\n",
       " 'logisticregression': LogisticRegression(penalty='l1', random_state=123, solver='liblinear'),\n",
       " 'standardscaler__copy': True,\n",
       " 'standardscaler__with_mean': True,\n",
       " 'standardscaler__with_std': True,\n",
       " 'logisticregression__C': 1.0,\n",
       " 'logisticregression__class_weight': None,\n",
       " 'logisticregression__dual': False,\n",
       " 'logisticregression__fit_intercept': True,\n",
       " 'logisticregression__intercept_scaling': 1,\n",
       " 'logisticregression__l1_ratio': None,\n",
       " 'logisticregression__max_iter': 100,\n",
       " 'logisticregression__multi_class': 'auto',\n",
       " 'logisticregression__n_jobs': None,\n",
       " 'logisticregression__penalty': 'l1',\n",
       " 'logisticregression__random_state': 123,\n",
       " 'logisticregression__solver': 'liblinear',\n",
       " 'logisticregression__tol': 0.0001,\n",
       " 'logisticregression__verbose': 0,\n",
       " 'logisticregression__warm_start': False}"
      ]
     },
     "execution_count": 39,
     "metadata": {},
     "output_type": "execute_result"
    }
   ],
   "source": [
    "### Use get_params() to find tuneable hyperparameters\n",
    "pipelines[\"l1\"].get_params()"
   ]
  },
  {
   "cell_type": "code",
   "execution_count": 40,
   "id": "efa3f4a2",
   "metadata": {},
   "outputs": [],
   "source": [
    "## Logistic Regression hyperparameters\n",
    "l1_hyperparameters = {\n",
    "    \"logisticregression__C\" : [0.001, 0.005, 0.01, 0.05, 0.1, 0.5, 1, 5, 10, 50, 100, 500, 1000],\n",
    "}\n",
    "\n",
    "l2_hyperparameters = {\n",
    "    \"logisticregression__C\" : [0.001, 0.005, 0.01, 0.05, 0.1, 0.5, 1, 5, 10, 50, 100, 500, 1000],\n",
    "}\n",
    "\n",
    "## Random Forest hyperparameters\n",
    "rf_hyperparameters = {\n",
    "    \"randomforestclassifier__n_estimators\" : [100, 200],\n",
    "    \"randomforestclassifier__max_features\" : ['auto', 'sqrt', 0.33],\n",
    "    \"randomforestclassifier__min_samples_leaf\" : [1, 3, 5, 10]\n",
    "}\n",
    "\n",
    "## Gradient Boosted Tree hyperparameters\n",
    "gb_hyperparameters = {\n",
    "    \"gradientboostingclassifier__n_estimators\" : [100, 200],\n",
    "    \"gradientboostingclassifier__learning_rate\" : [0.05, 0.1, 0.2],\n",
    "    \"gradientboostingclassifier__max_depth\" : [1, 3, 5]\n",
    "}"
   ]
  },
  {
   "cell_type": "code",
   "execution_count": 41,
   "id": "f93bd5ab",
   "metadata": {},
   "outputs": [],
   "source": [
    "## Create hyperparameters dictionary\n",
    "hyperparameters = {\n",
    "    \"l1\" : l1_hyperparameters,\n",
    "    \"l2\" : l2_hyperparameters,\n",
    "    \"rf\" : rf_hyperparameters,\n",
    "    \"gb\" : gb_hyperparameters\n",
    "}"
   ]
  },
  {
   "cell_type": "markdown",
   "id": "8cdb0367",
   "metadata": {},
   "source": [
    "### 5.4 Fit and Tune Models with Cross Validation"
   ]
  },
  {
   "cell_type": "code",
   "execution_count": 42,
   "id": "54b1b5e2",
   "metadata": {},
   "outputs": [
    {
     "name": "stdout",
     "output_type": "stream",
     "text": [
      "l1 has been fitted\n",
      "l2 has been fitted\n",
      "rf has been fitted\n",
      "gb has been fitted\n"
     ]
    }
   ],
   "source": [
    "## Create empty dictionary for fitted model\n",
    "fitted_models = {}\n",
    "\n",
    "for name, pipeline in pipelines.items():\n",
    "    model = GridSearchCV(pipeline, hyperparameters[name], cv=10, n_jobs=-1)\n",
    "    model.fit(X_train, y_train)\n",
    "    \n",
    "    fitted_models[name] = model\n",
    "    \n",
    "    print(name, \"has been fitted\")"
   ]
  },
  {
   "cell_type": "markdown",
   "id": "66f5b772",
   "metadata": {},
   "source": [
    "### 5.5 AUROC Review"
   ]
  },
  {
   "cell_type": "code",
   "execution_count": 72,
   "id": "b6dee159",
   "metadata": {},
   "outputs": [
    {
     "name": "stdout",
     "output_type": "stream",
     "text": [
      "l1 0.9708749999999998\n",
      "l2 0.970875\n",
      "rf 0.9855\n",
      "gb 0.9883749999999999\n"
     ]
    }
   ],
   "source": [
    "## To generate the cross validation score\n",
    "for name, model in fitted_models.items():\n",
    "    print(name, model.best_score_)"
   ]
  },
  {
   "cell_type": "markdown",
   "id": "c8df1b1c",
   "metadata": {},
   "source": [
    "This is the result of the holdout accurary. However, previous lesson taught us straight accuracy is not always the best way to evaluate a classification model. "
   ]
  },
  {
   "cell_type": "markdown",
   "id": "e88322d3",
   "metadata": {},
   "source": [
    "### 5.6 Pick the Winner"
   ]
  },
  {
   "cell_type": "markdown",
   "id": "1badc540",
   "metadata": {},
   "source": [
    "This code is from taken Kaggle to easier visualize the Confusion Matrox and Roc Score\n",
    "\n",
    "**Resources -> [Link](\"https://www.kaggle.com/code/ignaciovinuales/dealing-with-class-imbalance-auc-93-f1-94-eda/notebook\")**"
   ]
  },
  {
   "cell_type": "code",
   "execution_count": 71,
   "id": "00bf4703",
   "metadata": {},
   "outputs": [
    {
     "data": {
      "image/png": "[encoded data removed]",
      "text/plain": [
       "<Figure size 2520x504 with 8 Axes>"
      ]
     },
     "metadata": {},
     "output_type": "display_data"
    }
   ],
   "source": [
    "fig, axes = plt.subplots(1, 4, figsize=[35,7])\n",
    "fig.suptitle('Confusion matrix test set', fontsize=30)\n",
    "axes.flatten()\n",
    "j=0\n",
    "\n",
    "for name, model in fitted_models.items():\n",
    "    pred = fitted_models[name].predict(X_test)\n",
    "    \n",
    "    sns.set_context('talk')\n",
    "    cm = confusion_matrix(y_test, pred)\n",
    "    sns.heatmap(cm, annot=True, fmt='d', cmap='YlGnBu', annot_kws={\"size\": 40, \"weight\": \"bold\"}, ax=axes[j])\n",
    "\n",
    "    labels = ['Not Failure', 'Failure']\n",
    "    axes[j].set_xticklabels(labels, fontsize=20)\n",
    "    axes[j].set_yticklabels(['',''], fontsize=20)\n",
    "    axes[j].set_xlabel('Prediction \\n AUROC score = ' + str(round(roc_auc_score(y_test, pred),4)), fontsize=20)\n",
    "    j += 1\n",
    "\n",
    "    axes[0].set_yticklabels(labels, fontsize=20)\n",
    "    axes[0].set_ylabel('Actual Class', fontsize=25)\n",
    "    for index, name in enumerate([\"L1-Regularized\", \"L2-Regularized\", \"Random Forest\", \"Gradient Boosted Tree\"]):\n",
    "        axes[index].set_title(name, fontsize=25)\n",
    "     "
   ]
  },
  {
   "cell_type": "markdown",
   "id": "8f6f5cc2",
   "metadata": {},
   "source": [
    "**We can easily noticed the Gradient Boosted Tree has the highest cross validation score and AUROC Score**"
   ]
  },
  {
   "cell_type": "code",
   "execution_count": 73,
   "id": "99802538",
   "metadata": {},
   "outputs": [],
   "source": [
    "## Save winning model as final_model.pkl\n",
    "with open('final_model.pkl', 'wb') as f:\n",
    "    pickle.dump(fitted_models['rf'].best_estimator_, f)"
   ]
  },
  {
   "cell_type": "markdown",
   "id": "1a90177b",
   "metadata": {},
   "source": [
    "## 6.0 Insights & Analysis"
   ]
  },
  {
   "cell_type": "markdown",
   "id": "1884669f",
   "metadata": {},
   "source": [
    "**The winner is Gradient Boosted Tree!**\n",
    "\n",
    "In summary, we identified the best classification model for this project is **Gradient Boosted Tree** with the __0.988 Cross Validation Score__ and __0.8803 AUROC Score__."
   ]
  },
  {
   "cell_type": "markdown",
   "id": "04783499",
   "metadata": {},
   "source": [
    "However i'm believed that is lot of feature engineering and hyperparameter to play around to actually increass the accurary of the model. In addition, i will work out on how to deploy this project to the production as i believed the purpose of this project is prepare the counter measure before the machine breakdown (Predictive Maintenace) as the data we are collected mostly the machine failure already happened. "
   ]
  },
  {
   "cell_type": "markdown",
   "id": "b526b5b4",
   "metadata": {},
   "source": [
    "My next plan will be:\n",
    "1. Treshold level for the potential failure machine\n",
    "2. Automate the trigger by python function (Either email or sms) (May need to check on the google mail api)"
   ]
  }
 ],
 "metadata": {
  "kernelspec": {
   "display_name": "Python 3 (ipykernel)",
   "language": "python",
   "name": "python3"
  },
  "language_info": {
   "codemirror_mode": {
    "name": "ipython",
    "version": 3
   },
   "file_extension": ".py",
   "mimetype": "text/x-python",
   "name": "python",
   "nbconvert_exporter": "python",
   "pygments_lexer": "ipython3",
   "version": "3.9.12"
  }
 },
 "nbformat": 4,
 "nbformat_minor": 5
}
